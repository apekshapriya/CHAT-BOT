{
 "cells": [
  {
   "cell_type": "markdown",
   "metadata": {
    "deletable": true,
    "editable": true
   },
   "source": [
    "## import the libraries"
   ]
  },
  {
   "cell_type": "code",
   "execution_count": 1,
   "metadata": {
    "collapsed": true,
    "deletable": true,
    "editable": true
   },
   "outputs": [],
   "source": [
    "import warnings\n",
    "warnings.filterwarnings('ignore')"
   ]
  },
  {
   "cell_type": "code",
   "execution_count": 30,
   "metadata": {
    "collapsed": false,
    "deletable": true,
    "editable": true
   },
   "outputs": [
    {
     "name": "stderr",
     "output_type": "stream",
     "text": [
      "/usr/lib/python2.7/dist-packages/simplejson/encoder.py:269: DeprecationWarning: Interpreting naive datetime as local 2017-04-20 13:42:53.585715. Please add timezone info to timestamps.\n",
      "  chunks = self.iterencode(o, _one_shot=True)\n"
     ]
    }
   ],
   "source": [
    "import tensorflow as tf\n",
    "import numpy as np\n",
    "from nltk.tokenize import RegexpTokenizer\n",
    "from itertools import islice\n",
    "import matplotlib.pyplot as plt"
   ]
  },
  {
   "cell_type": "markdown",
   "metadata": {
    "deletable": true,
    "editable": true
   },
   "source": [
    "## import the data "
   ]
  },
  {
   "cell_type": "code",
   "execution_count": 5,
   "metadata": {
    "collapsed": false,
    "deletable": true,
    "editable": true
   },
   "outputs": [
    {
     "name": "stderr",
     "output_type": "stream",
     "text": [
      "/usr/lib/python2.7/dist-packages/simplejson/encoder.py:269: DeprecationWarning: Interpreting naive datetime as local 2017-04-20 11:11:16.499266. Please add timezone info to timestamps.\n",
      "  chunks = self.iterencode(o, _one_shot=True)\n"
     ]
    }
   ],
   "source": [
    "#import the data from \n",
    "#chat1 stores the chat of 1st person of training set\n",
    "#chat2 stores the chat of 2nd person of training set\n",
    "\n",
    "#chat3 stores the chat of 1st person of test set\n",
    "#chat4 stores the chat of 2nd person of test set\n",
    "\n",
    "\n",
    "chat1=[]\n",
    "chat2=[]\n",
    "chat3=[]\n",
    "chat4=[]\n",
    "\n",
    "def yield_alt(f, option='odd'):\n",
    "    \n",
    "        if option == 'odd':\n",
    "            return islice(f, 0, None, 2)\n",
    "        return islice(f, 1, None, 2)\n",
    " \n",
    "with open('/home/hadoop-user1/Desktop/tensorflow/training_dataset.txt') as f:\n",
    "    for line in yield_alt(f):      \n",
    "        chat1.append(line)\n",
    "\n",
    "with open('/home/hadoop-user1/Desktop/tensorflow/training_dataset.txt') as f:\n",
    "    for line in yield_alt(f, 'even'):\n",
    "        chat2.append(line)\n",
    "        \n",
    "with open('/home/hadoop-user1/Desktop/tensorflow/test_dataset.txt') as f:\n",
    "    for line in yield_alt(f):      \n",
    "        chat3.append(line)\n",
    "\n",
    "with open('/home/hadoop-user1/Desktop/tensorflow/test_dataset.txt') as f:\n",
    "    for line in yield_alt(f, 'even'):\n",
    "        chat4.append(line)\n",
    "\n",
    "      \n",
    "        "
   ]
  },
  {
   "cell_type": "markdown",
   "metadata": {
    "deletable": true,
    "editable": true
   },
   "source": [
    "## showing some samples"
   ]
  },
  {
   "cell_type": "code",
   "execution_count": 6,
   "metadata": {
    "collapsed": false,
    "deletable": true,
    "editable": true
   },
   "outputs": [
    {
     "data": {
      "text/plain": [
       "(['hi\\n',\n",
       "  'hello\\n',\n",
       "  'hey\\n',\n",
       "  \"what's up\\n\",\n",
       "  'greetings\\n',\n",
       "  'how are you\\n',\n",
       "  \"what's your name\\n\",\n",
       "  'what can you do\\n',\n",
       "  'when can I check in\\n',\n",
       "  'when can I check out\\n',\n",
       "  'who are you\\n',\n",
       "  \"what's your address\\n\",\n",
       "  \"what's your phone number\\n\",\n",
       "  'how can I call you\\n',\n",
       "  'can you call someone for me\\n',\n",
       "  'can I talk to someone\\n',\n",
       "  'how to get to your office\\n',\n",
       "  'how to get to your office if I come from Bordeaux\\n',\n",
       "  'how to get to your office if I come from Lyon\\n',\n",
       "  'how to get to your office if I come from Marseille\\n',\n",
       "  'how to get to your office if I come from Switzerland\\n',\n",
       "  'how to get to your office if I come by car\\n',\n",
       "  'how to get to your office if I come by bike\\n',\n",
       "  'how to get to your office if I come by motobike\\n',\n",
       "  'I need to make an appointment\\n',\n",
       "  'I need to see the doctor\\n',\n",
       "  'When is the doctor free\\n',\n",
       "  'I need to renew my prescription\\n',\n",
       "  'I need to make an appointment for my husband\\n',\n",
       "  'My child needs to come in for a check-up\\n'],\n",
       " ['hi\\n',\n",
       "  'hi\\n',\n",
       "  'hi\\n',\n",
       "  'nothing much\\n',\n",
       "  'greetings\\n',\n",
       "  \"I'm doing good\\n\",\n",
       "  \"I'm nameless\\n\",\n",
       "  'anything that you want\\n',\n",
       "  'the date specified on your reservation\\n',\n",
       "  'whenever you want to\\n',\n",
       "  'I am your little assistant\\n',\n",
       "  \"I don't have an address\\n\",\n",
       "  \"I don't have phone number either\\n\",\n",
       "  \"you can't call me, you can only talk to me here\\n\",\n",
       "  'sure, what is their phone number\\n',\n",
       "  \"sure, I'm getting you someone to talk with you\\n\",\n",
       "  'take the metro and stop at the terminus, we are 5mins away from there\\n',\n",
       "  'you need to take the TGV then at Paris Train Station you take the subway\\n',\n",
       "  'you need to take the TGV then at Paris Train Station you take the subway\\n',\n",
       "  'you need to take the TGV then at Paris Train Station you take the subway\\n',\n",
       "  'you need to take the TGV then at Paris Train Station you take the subway\\n',\n",
       "  'you need to take the periph and drive for 30mins\\n',\n",
       "  'you need to take the periph and drive for 80mins\\n',\n",
       "  'you need to take the periph and drive for 40mins\\n',\n",
       "  'sure, about what\\n',\n",
       "  'sure, about what\\n',\n",
       "  'well, depends on how urgent you need him\\n',\n",
       "  'can you come to the clinic\\n',\n",
       "  'sure, for what\\n',\n",
       "  'well, please fill the form below\\n'])"
      ]
     },
     "execution_count": 6,
     "metadata": {},
     "output_type": "execute_result"
    },
    {
     "name": "stderr",
     "output_type": "stream",
     "text": [
      "/usr/lib/python2.7/dist-packages/simplejson/encoder.py:269: DeprecationWarning: Interpreting naive datetime as local 2017-04-20 11:11:18.710580. Please add timezone info to timestamps.\n",
      "  chunks = self.iterencode(o, _one_shot=True)\n"
     ]
    }
   ],
   "source": [
    "chat1,chat2"
   ]
  },
  {
   "cell_type": "code",
   "execution_count": 7,
   "metadata": {
    "collapsed": false,
    "deletable": true,
    "editable": true
   },
   "outputs": [
    {
     "data": {
      "text/plain": [
       "['hey\\n',\n",
       " \"what's up\\n\",\n",
       " 'greetings\\n',\n",
       " 'how are you\\n',\n",
       " 'how are you doing today\\n',\n",
       " \"what's your name\\n\",\n",
       " 'what can you do\\n',\n",
       " 'when may I check in\\n',\n",
       " 'when will I be able to I check out\\n',\n",
       " 'who are you\\n',\n",
       " 'hi\\n',\n",
       " 'hello\\n',\n",
       " \"what's your address\\n\",\n",
       " \"what's your phone number\\n\",\n",
       " 'how can I call you\\n',\n",
       " 'how can I contact you\\n',\n",
       " 'can you call someone for me\\n',\n",
       " 'can I talk to someone\\n',\n",
       " 'how to get to your office\\n',\n",
       " 'how to get to your office if I come from Bordeaux\\n',\n",
       " 'how to get to your office if I come from Lyon\\n',\n",
       " 'how to come to your locals if I come from Brazil\\n',\n",
       " 'how to get there from Switzerland\\n',\n",
       " 'how to go to your office by car\\n',\n",
       " 'how to come to your office riding bike\\n',\n",
       " 'how to get to your office if I come by motobike\\n',\n",
       " 'I need to make an appointment\\n',\n",
       " 'I need to see the doctor\\n',\n",
       " 'When can the doctor be free\\n',\n",
       " 'I need a new prescription\\n',\n",
       " 'I need to make an appointment for my husband\\n',\n",
       " 'My husband need to make an appointment\\n',\n",
       " 'My child needs a check-up\\n']"
      ]
     },
     "execution_count": 7,
     "metadata": {},
     "output_type": "execute_result"
    },
    {
     "name": "stderr",
     "output_type": "stream",
     "text": [
      "/usr/lib/python2.7/dist-packages/simplejson/encoder.py:269: DeprecationWarning: Interpreting naive datetime as local 2017-04-20 11:11:19.598348. Please add timezone info to timestamps.\n",
      "  chunks = self.iterencode(o, _one_shot=True)\n"
     ]
    }
   ],
   "source": [
    "chat3"
   ]
  },
  {
   "cell_type": "code",
   "execution_count": 8,
   "metadata": {
    "collapsed": false,
    "deletable": true,
    "editable": true
   },
   "outputs": [
    {
     "data": {
      "text/plain": [
       "(30, 33)"
      ]
     },
     "execution_count": 8,
     "metadata": {},
     "output_type": "execute_result"
    },
    {
     "name": "stderr",
     "output_type": "stream",
     "text": [
      "/usr/lib/python2.7/dist-packages/simplejson/encoder.py:269: DeprecationWarning: Interpreting naive datetime as local 2017-04-20 11:11:20.346902. Please add timezone info to timestamps.\n",
      "  chunks = self.iterencode(o, _one_shot=True)\n"
     ]
    }
   ],
   "source": [
    "len(chat1),len(chat3)"
   ]
  },
  {
   "cell_type": "markdown",
   "metadata": {
    "deletable": true,
    "editable": true
   },
   "source": [
    "## tokenizes the list of strings and finds the vocab size"
   ]
  },
  {
   "cell_type": "code",
   "execution_count": 9,
   "metadata": {
    "collapsed": false,
    "deletable": true,
    "editable": true
   },
   "outputs": [
    {
     "name": "stderr",
     "output_type": "stream",
     "text": [
      "/usr/lib/python2.7/dist-packages/simplejson/encoder.py:269: DeprecationWarning: Interpreting naive datetime as local 2017-04-20 11:11:21.761869. Please add timezone info to timestamps.\n",
      "  chunks = self.iterencode(o, _one_shot=True)\n"
     ]
    }
   ],
   "source": [
    "#ques stores the tokenized list of chat1\n",
    "#ans stores tokenized list of chat2\n",
    "#ques1 stores the tokenized list of chat3\n",
    "#ans1 stores tokenized list of chat4\n",
    "\n",
    "#words store total number of words\n",
    "#vocab_stores total number of unique words\n",
    "\n",
    "tokenizer = RegexpTokenizer(r'\\w+')\n",
    "\n",
    "ques,ans=[],[]\n",
    "words=[]\n",
    "\n",
    "for i in chat1:\n",
    "    \n",
    "        tr=map(str.lower,tokenizer.tokenize(i))\n",
    "        ques.append(tr)\n",
    "        words.extend(tr)\n",
    "        \n",
    "for i in chat2:\n",
    "    \n",
    "        tr=map(str.lower,tokenizer.tokenize(i)) \n",
    "        ans.append(tr)\n",
    "        words.extend(tr)\n",
    "        \n",
    "        \n",
    "        \n",
    "ques1=[]\n",
    "ans1=[]\n",
    "        \n",
    "for i in chat3:\n",
    "    \n",
    "        tr=map(str.lower,tokenizer.tokenize(i))\n",
    "        ques1.append(tr)\n",
    "        words.extend(tr)\n",
    "        \n",
    "for i in chat4:\n",
    "    \n",
    "        tr=map(str.lower,tokenizer.tokenize(i)) \n",
    "        ans1.append(tr)\n",
    "        words.extend(tr)"
   ]
  },
  {
   "cell_type": "code",
   "execution_count": 10,
   "metadata": {
    "collapsed": false,
    "deletable": true,
    "editable": true
   },
   "outputs": [
    {
     "data": {
      "text/plain": [
       "33"
      ]
     },
     "execution_count": 10,
     "metadata": {},
     "output_type": "execute_result"
    },
    {
     "name": "stderr",
     "output_type": "stream",
     "text": [
      "/usr/lib/python2.7/dist-packages/simplejson/encoder.py:269: DeprecationWarning: Interpreting naive datetime as local 2017-04-20 11:11:22.503112. Please add timezone info to timestamps.\n",
      "  chunks = self.iterencode(o, _one_shot=True)\n"
     ]
    }
   ],
   "source": [
    "len(ques1)"
   ]
  },
  {
   "cell_type": "markdown",
   "metadata": {
    "deletable": true,
    "editable": true
   },
   "source": [
    "## vocabulary size"
   ]
  },
  {
   "cell_type": "code",
   "execution_count": 11,
   "metadata": {
    "collapsed": false,
    "deletable": true,
    "editable": true
   },
   "outputs": [
    {
     "data": {
      "text/plain": [
       "128"
      ]
     },
     "execution_count": 11,
     "metadata": {},
     "output_type": "execute_result"
    },
    {
     "name": "stderr",
     "output_type": "stream",
     "text": [
      "/usr/lib/python2.7/dist-packages/simplejson/encoder.py:269: DeprecationWarning: Interpreting naive datetime as local 2017-04-20 11:11:23.873539. Please add timezone info to timestamps.\n",
      "  chunks = self.iterencode(o, _one_shot=True)\n"
     ]
    }
   ],
   "source": [
    "vocab_size=len((set(words)))\n",
    "vocab_size"
   ]
  },
  {
   "cell_type": "markdown",
   "metadata": {
    "deletable": true,
    "editable": true
   },
   "source": [
    "## finds dictionary of words (id to word and word to id)"
   ]
  },
  {
   "cell_type": "code",
   "execution_count": 12,
   "metadata": {
    "collapsed": false,
    "deletable": true,
    "editable": true
   },
   "outputs": [
    {
     "data": {
      "text/plain": [
       "({0: 'office',\n",
       "  1: 'able',\n",
       "  2: 'motobike',\n",
       "  3: 'clinic',\n",
       "  4: 'greetings',\n",
       "  5: 'go',\n",
       "  6: 'paris',\n",
       "  7: 'to',\n",
       "  8: 'only',\n",
       "  9: 'bike',\n",
       "  10: '30mins',\n",
       "  11: 'riding',\n",
       "  12: 'do',\n",
       "  13: 'good',\n",
       "  14: 'appointment',\n",
       "  15: 'depends',\n",
       "  16: 'get',\n",
       "  17: 'assistant',\n",
       "  18: 'stop',\n",
       "  19: 'him',\n",
       "  20: 'name',\n",
       "  21: 't',\n",
       "  22: 'switzerland',\n",
       "  23: 'husband',\n",
       "  24: 'periph',\n",
       "  25: 'doing',\n",
       "  26: 'urgent',\n",
       "  27: 'see',\n",
       "  28: 'are',\n",
       "  29: 'specified',\n",
       "  30: 'locals',\n",
       "  31: 'out',\n",
       "  32: 'brazil',\n",
       "  33: 'what',\n",
       "  34: 'for',\n",
       "  35: 'away',\n",
       "  36: 'please',\n",
       "  37: 'new',\n",
       "  38: 'either',\n",
       "  39: 'be',\n",
       "  40: 'we',\n",
       "  41: 'here',\n",
       "  42: 'free',\n",
       "  43: 'address',\n",
       "  44: 'come',\n",
       "  45: 'by',\n",
       "  46: 'on',\n",
       "  47: 'about',\n",
       "  48: 'prescription',\n",
       "  49: 'anything',\n",
       "  50: 'getting',\n",
       "  51: 's',\n",
       "  52: 'nameless',\n",
       "  53: 'tgv',\n",
       "  54: 'number',\n",
       "  55: 'nothing',\n",
       "  56: 'your',\n",
       "  57: 'little',\n",
       "  58: 'from',\n",
       "  59: 'there',\n",
       "  60: 'hey',\n",
       "  61: 'their',\n",
       "  62: 'much',\n",
       "  63: 'call',\n",
       "  64: 'today',\n",
       "  65: 'form',\n",
       "  66: 'that',\n",
       "  67: 'phone',\n",
       "  68: 'hi',\n",
       "  69: 'child',\n",
       "  70: 'with',\n",
       "  71: 'me',\n",
       "  72: 'none',\n",
       "  73: 'terminus',\n",
       "  74: 'metro',\n",
       "  75: 'car',\n",
       "  76: 'up',\n",
       "  77: 'will',\n",
       "  78: 'whenever',\n",
       "  79: 'below',\n",
       "  80: 'can',\n",
       "  81: 'marseille',\n",
       "  82: 'my',\n",
       "  83: 'and',\n",
       "  84: 'want',\n",
       "  85: 'then',\n",
       "  86: 'well',\n",
       "  87: 'is',\n",
       "  88: 'am',\n",
       "  89: 'an',\n",
       "  90: 'someone',\n",
       "  91: 'at',\n",
       "  92: 'have',\n",
       "  93: 'in',\n",
       "  94: 'need',\n",
       "  95: 'station',\n",
       "  96: 'check',\n",
       "  97: 'if',\n",
       "  98: 'needs',\n",
       "  99: 'doctor',\n",
       "  100: 'make',\n",
       "  101: 'when',\n",
       "  102: 'renew',\n",
       "  103: 'how',\n",
       "  104: 'contact',\n",
       "  105: 'take',\n",
       "  106: 'you',\n",
       "  107: 'fill',\n",
       "  108: '80mins',\n",
       "  109: 'sure',\n",
       "  110: 'may',\n",
       "  111: 'who',\n",
       "  112: 'lyon',\n",
       "  113: '5mins',\n",
       "  114: 'date',\n",
       "  115: 'reservation',\n",
       "  116: 'bordeaux',\n",
       "  117: 'a',\n",
       "  118: 'don',\n",
       "  119: 'i',\n",
       "  120: 'm',\n",
       "  121: 'drive',\n",
       "  122: '40mins',\n",
       "  123: 'train',\n",
       "  124: 'the',\n",
       "  125: 'hello',\n",
       "  126: 'talk',\n",
       "  127: 'subway'},\n",
       " {'30mins': 10,\n",
       "  '40mins': 122,\n",
       "  '5mins': 113,\n",
       "  '80mins': 108,\n",
       "  'a': 117,\n",
       "  'able': 1,\n",
       "  'about': 47,\n",
       "  'address': 43,\n",
       "  'am': 88,\n",
       "  'an': 89,\n",
       "  'and': 83,\n",
       "  'anything': 49,\n",
       "  'appointment': 14,\n",
       "  'are': 28,\n",
       "  'assistant': 17,\n",
       "  'at': 91,\n",
       "  'away': 35,\n",
       "  'be': 39,\n",
       "  'below': 79,\n",
       "  'bike': 9,\n",
       "  'bordeaux': 116,\n",
       "  'brazil': 32,\n",
       "  'by': 45,\n",
       "  'call': 63,\n",
       "  'can': 80,\n",
       "  'car': 75,\n",
       "  'check': 96,\n",
       "  'child': 69,\n",
       "  'clinic': 3,\n",
       "  'come': 44,\n",
       "  'contact': 104,\n",
       "  'date': 114,\n",
       "  'depends': 15,\n",
       "  'do': 12,\n",
       "  'doctor': 99,\n",
       "  'doing': 25,\n",
       "  'don': 118,\n",
       "  'drive': 121,\n",
       "  'either': 38,\n",
       "  'fill': 107,\n",
       "  'for': 34,\n",
       "  'form': 65,\n",
       "  'free': 42,\n",
       "  'from': 58,\n",
       "  'get': 16,\n",
       "  'getting': 50,\n",
       "  'go': 5,\n",
       "  'good': 13,\n",
       "  'greetings': 4,\n",
       "  'have': 92,\n",
       "  'hello': 125,\n",
       "  'here': 41,\n",
       "  'hey': 60,\n",
       "  'hi': 68,\n",
       "  'him': 19,\n",
       "  'how': 103,\n",
       "  'husband': 23,\n",
       "  'i': 119,\n",
       "  'if': 97,\n",
       "  'in': 93,\n",
       "  'is': 87,\n",
       "  'little': 57,\n",
       "  'locals': 30,\n",
       "  'lyon': 112,\n",
       "  'm': 120,\n",
       "  'make': 100,\n",
       "  'marseille': 81,\n",
       "  'may': 110,\n",
       "  'me': 71,\n",
       "  'metro': 74,\n",
       "  'motobike': 2,\n",
       "  'much': 62,\n",
       "  'my': 82,\n",
       "  'name': 20,\n",
       "  'nameless': 52,\n",
       "  'need': 94,\n",
       "  'needs': 98,\n",
       "  'new': 37,\n",
       "  'none': 72,\n",
       "  'nothing': 55,\n",
       "  'number': 54,\n",
       "  'office': 0,\n",
       "  'on': 46,\n",
       "  'only': 8,\n",
       "  'out': 31,\n",
       "  'paris': 6,\n",
       "  'periph': 24,\n",
       "  'phone': 67,\n",
       "  'please': 36,\n",
       "  'prescription': 48,\n",
       "  'renew': 102,\n",
       "  'reservation': 115,\n",
       "  'riding': 11,\n",
       "  's': 51,\n",
       "  'see': 27,\n",
       "  'someone': 90,\n",
       "  'specified': 29,\n",
       "  'station': 95,\n",
       "  'stop': 18,\n",
       "  'subway': 127,\n",
       "  'sure': 109,\n",
       "  'switzerland': 22,\n",
       "  't': 21,\n",
       "  'take': 105,\n",
       "  'talk': 126,\n",
       "  'terminus': 73,\n",
       "  'tgv': 53,\n",
       "  'that': 66,\n",
       "  'the': 124,\n",
       "  'their': 61,\n",
       "  'then': 85,\n",
       "  'there': 59,\n",
       "  'to': 7,\n",
       "  'today': 64,\n",
       "  'train': 123,\n",
       "  'up': 76,\n",
       "  'urgent': 26,\n",
       "  'want': 84,\n",
       "  'we': 40,\n",
       "  'well': 86,\n",
       "  'what': 33,\n",
       "  'when': 101,\n",
       "  'whenever': 78,\n",
       "  'who': 111,\n",
       "  'will': 77,\n",
       "  'with': 70,\n",
       "  'you': 106,\n",
       "  'your': 56})"
      ]
     },
     "execution_count": 12,
     "metadata": {},
     "output_type": "execute_result"
    },
    {
     "name": "stderr",
     "output_type": "stream",
     "text": [
      "/usr/lib/python2.7/dist-packages/simplejson/encoder.py:269: DeprecationWarning: Interpreting naive datetime as local 2017-04-20 11:11:25.336381. Please add timezone info to timestamps.\n",
      "  chunks = self.iterencode(o, _one_shot=True)\n"
     ]
    }
   ],
   "source": [
    "id_to_word=dict(enumerate(set(words)))\n",
    "\n",
    "word_to_id={k:v for v,k in id_to_word.items()}\n",
    "id_to_word,word_to_id"
   ]
  },
  {
   "cell_type": "markdown",
   "metadata": {
    "deletable": true,
    "editable": true
   },
   "source": [
    "## data stores tokenized question and answer as a whole"
   ]
  },
  {
   "cell_type": "code",
   "execution_count": 13,
   "metadata": {
    "collapsed": false,
    "deletable": true,
    "editable": true
   },
   "outputs": [
    {
     "name": "stderr",
     "output_type": "stream",
     "text": [
      "/usr/lib/python2.7/dist-packages/simplejson/encoder.py:269: DeprecationWarning: Interpreting naive datetime as local 2017-04-20 11:11:26.765583. Please add timezone info to timestamps.\n",
      "  chunks = self.iterencode(o, _one_shot=True)\n"
     ]
    }
   ],
   "source": [
    "data=[]\n",
    "\n",
    "a=[data.append(i) for i in ques]\n",
    "a=[data.append(i) for i in ans]\n",
    "a=[data.append(i) for i in ques1]\n",
    "a=[data.append(i) for i in ans1]"
   ]
  },
  {
   "cell_type": "markdown",
   "metadata": {
    "deletable": true,
    "editable": true
   },
   "source": [
    "## Adding an empty string to the dictionary"
   ]
  },
  {
   "cell_type": "code",
   "execution_count": 14,
   "metadata": {
    "collapsed": false,
    "deletable": true,
    "editable": true
   },
   "outputs": [
    {
     "name": "stderr",
     "output_type": "stream",
     "text": [
      "/usr/lib/python2.7/dist-packages/simplejson/encoder.py:269: DeprecationWarning: Interpreting naive datetime as local 2017-04-20 11:11:27.895558. Please add timezone info to timestamps.\n",
      "  chunks = self.iterencode(o, _one_shot=True)\n"
     ]
    }
   ],
   "source": [
    "# Adds empty string corresponding the index added for padding in the later part part of code\n",
    "\n",
    "id_to_word[vocab_size]=''"
   ]
  },
  {
   "cell_type": "markdown",
   "metadata": {
    "deletable": true,
    "editable": true
   },
   "source": [
    "## converting words to indices of ques and ans"
   ]
  },
  {
   "cell_type": "code",
   "execution_count": 15,
   "metadata": {
    "collapsed": false,
    "deletable": true,
    "editable": true
   },
   "outputs": [
    {
     "name": "stderr",
     "output_type": "stream",
     "text": [
      "/usr/lib/python2.7/dist-packages/simplejson/encoder.py:269: DeprecationWarning: Interpreting naive datetime as local 2017-04-20 11:11:29.230270. Please add timezone info to timestamps.\n",
      "  chunks = self.iterencode(o, _one_shot=True)\n"
     ]
    }
   ],
   "source": [
    "# train and target stores the  indices corresponding to words of ques and ans\n",
    "\n",
    "train,target=[],[]\n",
    "test,test_target=[],[]\n",
    "\n",
    "for i in range(len(ques)):\n",
    "    \n",
    "    train.append([word_to_id[x] for x in ques[i]])\n",
    "    target.append([word_to_id[x] for x in ans[i]])\n",
    "\n",
    "for i in range(len(ques1)):\n",
    "    test.append([word_to_id[x] for x in ques1[i]])\n",
    "    test_target.append([word_to_id[x] for x in ans1[i]])\n",
    "    \n",
    "    \n",
    "    "
   ]
  },
  {
   "cell_type": "markdown",
   "metadata": {
    "deletable": true,
    "editable": true
   },
   "source": [
    "## padding to make all sequence of equal length"
   ]
  },
  {
   "cell_type": "code",
   "execution_count": 16,
   "metadata": {
    "collapsed": false,
    "deletable": true,
    "editable": true
   },
   "outputs": [
    {
     "name": "stderr",
     "output_type": "stream",
     "text": [
      "/usr/lib/python2.7/dist-packages/simplejson/encoder.py:269: DeprecationWarning: Interpreting naive datetime as local 2017-04-20 11:11:30.371521. Please add timezone info to timestamps.\n",
      "  chunks = self.iterencode(o, _one_shot=True)\n"
     ]
    }
   ],
   "source": [
    "# max_length calculates length of longest sequence and add 100 as a padding to make all sequence of equal length\n",
    "\n",
    "max_length = max([len(i) for i in data])\n",
    "\n",
    "for i in range(len(train)):\n",
    "    \n",
    "    train[i] =[j for j in train[i]] + [vocab_size] * (max_length - len(train[i]))\n",
    "\n",
    "    target[i] =[j for j in target[i]] + [vocab_size] * (max_length - len(target[i]))\n",
    "    \n",
    "for i in range(len(test)):\n",
    "    \n",
    "    test[i] =[j for j in test[i]] + [vocab_size] * (max_length - len(test[i]))\n",
    "\n",
    "    test_target[i] =[j for j in test_target[i]] + [vocab_size] * (max_length - len(test_target[i]))\n",
    " "
   ]
  },
  {
   "cell_type": "code",
   "execution_count": 17,
   "metadata": {
    "collapsed": false,
    "deletable": true,
    "editable": true
   },
   "outputs": [
    {
     "name": "stderr",
     "output_type": "stream",
     "text": [
      "/usr/lib/python2.7/dist-packages/simplejson/encoder.py:269: DeprecationWarning: Interpreting naive datetime as local 2017-04-20 11:11:30.922504. Please add timezone info to timestamps.\n",
      "  chunks = self.iterencode(o, _one_shot=True)\n"
     ]
    }
   ],
   "source": [
    "\n",
    "train = np.array(train)\n",
    "\n",
    "target = np.array(target)\n",
    "test = np.array(test)\n",
    "\n",
    "test_target = np.array(test_target)"
   ]
  },
  {
   "cell_type": "code",
   "execution_count": 18,
   "metadata": {
    "collapsed": false,
    "deletable": true,
    "editable": true
   },
   "outputs": [
    {
     "data": {
      "text/plain": [
       "(array([[ 68, 128, 128, 128, 128, 128, 128, 128, 128, 128, 128, 128, 128,\n",
       "         128, 128],\n",
       "        [125, 128, 128, 128, 128, 128, 128, 128, 128, 128, 128, 128, 128,\n",
       "         128, 128],\n",
       "        [ 60, 128, 128, 128, 128, 128, 128, 128, 128, 128, 128, 128, 128,\n",
       "         128, 128],\n",
       "        [ 33,  51,  76, 128, 128, 128, 128, 128, 128, 128, 128, 128, 128,\n",
       "         128, 128],\n",
       "        [  4, 128, 128, 128, 128, 128, 128, 128, 128, 128, 128, 128, 128,\n",
       "         128, 128],\n",
       "        [103,  28, 106, 128, 128, 128, 128, 128, 128, 128, 128, 128, 128,\n",
       "         128, 128],\n",
       "        [ 33,  51,  56,  20, 128, 128, 128, 128, 128, 128, 128, 128, 128,\n",
       "         128, 128],\n",
       "        [ 33,  80, 106,  12, 128, 128, 128, 128, 128, 128, 128, 128, 128,\n",
       "         128, 128],\n",
       "        [101,  80, 119,  96,  93, 128, 128, 128, 128, 128, 128, 128, 128,\n",
       "         128, 128],\n",
       "        [101,  80, 119,  96,  31, 128, 128, 128, 128, 128, 128, 128, 128,\n",
       "         128, 128],\n",
       "        [111,  28, 106, 128, 128, 128, 128, 128, 128, 128, 128, 128, 128,\n",
       "         128, 128],\n",
       "        [ 33,  51,  56,  43, 128, 128, 128, 128, 128, 128, 128, 128, 128,\n",
       "         128, 128],\n",
       "        [ 33,  51,  56,  67,  54, 128, 128, 128, 128, 128, 128, 128, 128,\n",
       "         128, 128],\n",
       "        [103,  80, 119,  63, 106, 128, 128, 128, 128, 128, 128, 128, 128,\n",
       "         128, 128],\n",
       "        [ 80, 106,  63,  90,  34,  71, 128, 128, 128, 128, 128, 128, 128,\n",
       "         128, 128],\n",
       "        [ 80, 119, 126,   7,  90, 128, 128, 128, 128, 128, 128, 128, 128,\n",
       "         128, 128],\n",
       "        [103,   7,  16,   7,  56,   0, 128, 128, 128, 128, 128, 128, 128,\n",
       "         128, 128],\n",
       "        [103,   7,  16,   7,  56,   0,  97, 119,  44,  58, 116, 128, 128,\n",
       "         128, 128],\n",
       "        [103,   7,  16,   7,  56,   0,  97, 119,  44,  58, 112, 128, 128,\n",
       "         128, 128],\n",
       "        [103,   7,  16,   7,  56,   0,  97, 119,  44,  58,  81, 128, 128,\n",
       "         128, 128],\n",
       "        [103,   7,  16,   7,  56,   0,  97, 119,  44,  58,  22, 128, 128,\n",
       "         128, 128],\n",
       "        [103,   7,  16,   7,  56,   0,  97, 119,  44,  45,  75, 128, 128,\n",
       "         128, 128],\n",
       "        [103,   7,  16,   7,  56,   0,  97, 119,  44,  45,   9, 128, 128,\n",
       "         128, 128],\n",
       "        [103,   7,  16,   7,  56,   0,  97, 119,  44,  45,   2, 128, 128,\n",
       "         128, 128],\n",
       "        [119,  94,   7, 100,  89,  14, 128, 128, 128, 128, 128, 128, 128,\n",
       "         128, 128],\n",
       "        [119,  94,   7,  27, 124,  99, 128, 128, 128, 128, 128, 128, 128,\n",
       "         128, 128],\n",
       "        [101,  87, 124,  99,  42, 128, 128, 128, 128, 128, 128, 128, 128,\n",
       "         128, 128],\n",
       "        [119,  94,   7, 102,  82,  48, 128, 128, 128, 128, 128, 128, 128,\n",
       "         128, 128],\n",
       "        [119,  94,   7, 100,  89,  14,  34,  82,  23, 128, 128, 128, 128,\n",
       "         128, 128],\n",
       "        [ 82,  69,  98,   7,  44,  93,  34, 117,  96,  76, 128, 128, 128,\n",
       "         128, 128]]),\n",
       " array([[ 68, 128, 128, 128, 128, 128, 128, 128, 128, 128, 128, 128, 128,\n",
       "         128, 128],\n",
       "        [ 68, 128, 128, 128, 128, 128, 128, 128, 128, 128, 128, 128, 128,\n",
       "         128, 128],\n",
       "        [ 68, 128, 128, 128, 128, 128, 128, 128, 128, 128, 128, 128, 128,\n",
       "         128, 128],\n",
       "        [ 55,  62, 128, 128, 128, 128, 128, 128, 128, 128, 128, 128, 128,\n",
       "         128, 128],\n",
       "        [  4, 128, 128, 128, 128, 128, 128, 128, 128, 128, 128, 128, 128,\n",
       "         128, 128],\n",
       "        [119, 120,  25,  13, 128, 128, 128, 128, 128, 128, 128, 128, 128,\n",
       "         128, 128],\n",
       "        [119, 120,  52, 128, 128, 128, 128, 128, 128, 128, 128, 128, 128,\n",
       "         128, 128],\n",
       "        [ 49,  66, 106,  84, 128, 128, 128, 128, 128, 128, 128, 128, 128,\n",
       "         128, 128],\n",
       "        [124, 114,  29,  46,  56, 115, 128, 128, 128, 128, 128, 128, 128,\n",
       "         128, 128],\n",
       "        [ 78, 106,  84,   7, 128, 128, 128, 128, 128, 128, 128, 128, 128,\n",
       "         128, 128],\n",
       "        [119,  88,  56,  57,  17, 128, 128, 128, 128, 128, 128, 128, 128,\n",
       "         128, 128],\n",
       "        [119, 118,  21,  92,  89,  43, 128, 128, 128, 128, 128, 128, 128,\n",
       "         128, 128],\n",
       "        [119, 118,  21,  92,  67,  54,  38, 128, 128, 128, 128, 128, 128,\n",
       "         128, 128],\n",
       "        [106,  80,  21,  63,  71, 106,  80,   8, 126,   7,  71,  41, 128,\n",
       "         128, 128],\n",
       "        [109,  33,  87,  61,  67,  54, 128, 128, 128, 128, 128, 128, 128,\n",
       "         128, 128],\n",
       "        [109, 119, 120,  50, 106,  90,   7, 126,  70, 106, 128, 128, 128,\n",
       "         128, 128],\n",
       "        [105, 124,  74,  83,  18,  91, 124,  73,  40,  28, 113,  35,  58,\n",
       "          59, 128],\n",
       "        [106,  94,   7, 105, 124,  53,  85,  91,   6, 123,  95, 106, 105,\n",
       "         124, 127],\n",
       "        [106,  94,   7, 105, 124,  53,  85,  91,   6, 123,  95, 106, 105,\n",
       "         124, 127],\n",
       "        [106,  94,   7, 105, 124,  53,  85,  91,   6, 123,  95, 106, 105,\n",
       "         124, 127],\n",
       "        [106,  94,   7, 105, 124,  53,  85,  91,   6, 123,  95, 106, 105,\n",
       "         124, 127],\n",
       "        [106,  94,   7, 105, 124,  24,  83, 121,  34,  10, 128, 128, 128,\n",
       "         128, 128],\n",
       "        [106,  94,   7, 105, 124,  24,  83, 121,  34, 108, 128, 128, 128,\n",
       "         128, 128],\n",
       "        [106,  94,   7, 105, 124,  24,  83, 121,  34, 122, 128, 128, 128,\n",
       "         128, 128],\n",
       "        [109,  47,  33, 128, 128, 128, 128, 128, 128, 128, 128, 128, 128,\n",
       "         128, 128],\n",
       "        [109,  47,  33, 128, 128, 128, 128, 128, 128, 128, 128, 128, 128,\n",
       "         128, 128],\n",
       "        [ 86,  15,  46, 103,  26, 106,  94,  19, 128, 128, 128, 128, 128,\n",
       "         128, 128],\n",
       "        [ 80, 106,  44,   7, 124,   3, 128, 128, 128, 128, 128, 128, 128,\n",
       "         128, 128],\n",
       "        [109,  34,  33, 128, 128, 128, 128, 128, 128, 128, 128, 128, 128,\n",
       "         128, 128],\n",
       "        [ 86,  36, 107, 124,  65,  79, 128, 128, 128, 128, 128, 128, 128,\n",
       "         128, 128]]))"
      ]
     },
     "execution_count": 18,
     "metadata": {},
     "output_type": "execute_result"
    },
    {
     "name": "stderr",
     "output_type": "stream",
     "text": [
      "/usr/lib/python2.7/dist-packages/simplejson/encoder.py:269: DeprecationWarning: Interpreting naive datetime as local 2017-04-20 11:11:31.330534. Please add timezone info to timestamps.\n",
      "  chunks = self.iterencode(o, _one_shot=True)\n"
     ]
    }
   ],
   "source": [
    "train,target"
   ]
  },
  {
   "cell_type": "code",
   "execution_count": 19,
   "metadata": {
    "collapsed": false,
    "deletable": true,
    "editable": true
   },
   "outputs": [
    {
     "data": {
      "text/plain": [
       "(array([[ 60, 128, 128, 128, 128, 128, 128, 128, 128, 128, 128, 128, 128,\n",
       "         128, 128],\n",
       "        [ 33,  51,  76, 128, 128, 128, 128, 128, 128, 128, 128, 128, 128,\n",
       "         128, 128],\n",
       "        [  4, 128, 128, 128, 128, 128, 128, 128, 128, 128, 128, 128, 128,\n",
       "         128, 128],\n",
       "        [103,  28, 106, 128, 128, 128, 128, 128, 128, 128, 128, 128, 128,\n",
       "         128, 128],\n",
       "        [103,  28, 106,  25,  64, 128, 128, 128, 128, 128, 128, 128, 128,\n",
       "         128, 128],\n",
       "        [ 33,  51,  56,  20, 128, 128, 128, 128, 128, 128, 128, 128, 128,\n",
       "         128, 128],\n",
       "        [ 33,  80, 106,  12, 128, 128, 128, 128, 128, 128, 128, 128, 128,\n",
       "         128, 128],\n",
       "        [101, 110, 119,  96,  93, 128, 128, 128, 128, 128, 128, 128, 128,\n",
       "         128, 128],\n",
       "        [101,  77, 119,  39,   1,   7, 119,  96,  31, 128, 128, 128, 128,\n",
       "         128, 128],\n",
       "        [111,  28, 106, 128, 128, 128, 128, 128, 128, 128, 128, 128, 128,\n",
       "         128, 128],\n",
       "        [ 68, 128, 128, 128, 128, 128, 128, 128, 128, 128, 128, 128, 128,\n",
       "         128, 128],\n",
       "        [125, 128, 128, 128, 128, 128, 128, 128, 128, 128, 128, 128, 128,\n",
       "         128, 128],\n",
       "        [ 33,  51,  56,  43, 128, 128, 128, 128, 128, 128, 128, 128, 128,\n",
       "         128, 128],\n",
       "        [ 33,  51,  56,  67,  54, 128, 128, 128, 128, 128, 128, 128, 128,\n",
       "         128, 128],\n",
       "        [103,  80, 119,  63, 106, 128, 128, 128, 128, 128, 128, 128, 128,\n",
       "         128, 128],\n",
       "        [103,  80, 119, 104, 106, 128, 128, 128, 128, 128, 128, 128, 128,\n",
       "         128, 128],\n",
       "        [ 80, 106,  63,  90,  34,  71, 128, 128, 128, 128, 128, 128, 128,\n",
       "         128, 128],\n",
       "        [ 80, 119, 126,   7,  90, 128, 128, 128, 128, 128, 128, 128, 128,\n",
       "         128, 128],\n",
       "        [103,   7,  16,   7,  56,   0, 128, 128, 128, 128, 128, 128, 128,\n",
       "         128, 128],\n",
       "        [103,   7,  16,   7,  56,   0,  97, 119,  44,  58, 116, 128, 128,\n",
       "         128, 128],\n",
       "        [103,   7,  16,   7,  56,   0,  97, 119,  44,  58, 112, 128, 128,\n",
       "         128, 128],\n",
       "        [103,   7,  44,   7,  56,  30,  97, 119,  44,  58,  32, 128, 128,\n",
       "         128, 128],\n",
       "        [103,   7,  16,  59,  58,  22, 128, 128, 128, 128, 128, 128, 128,\n",
       "         128, 128],\n",
       "        [103,   7,   5,   7,  56,   0,  45,  75, 128, 128, 128, 128, 128,\n",
       "         128, 128],\n",
       "        [103,   7,  44,   7,  56,   0,  11,   9, 128, 128, 128, 128, 128,\n",
       "         128, 128],\n",
       "        [103,   7,  16,   7,  56,   0,  97, 119,  44,  45,   2, 128, 128,\n",
       "         128, 128],\n",
       "        [119,  94,   7, 100,  89,  14, 128, 128, 128, 128, 128, 128, 128,\n",
       "         128, 128],\n",
       "        [119,  94,   7,  27, 124,  99, 128, 128, 128, 128, 128, 128, 128,\n",
       "         128, 128],\n",
       "        [101,  80, 124,  99,  39,  42, 128, 128, 128, 128, 128, 128, 128,\n",
       "         128, 128],\n",
       "        [119,  94, 117,  37,  48, 128, 128, 128, 128, 128, 128, 128, 128,\n",
       "         128, 128],\n",
       "        [119,  94,   7, 100,  89,  14,  34,  82,  23, 128, 128, 128, 128,\n",
       "         128, 128],\n",
       "        [ 82,  23,  94,   7, 100,  89,  14, 128, 128, 128, 128, 128, 128,\n",
       "         128, 128],\n",
       "        [ 82,  69,  98, 117,  96,  76, 128, 128, 128, 128, 128, 128, 128,\n",
       "         128, 128]]),\n",
       " array([[ 68, 128, 128, 128, 128, 128, 128, 128, 128, 128, 128, 128, 128,\n",
       "         128, 128],\n",
       "        [ 55,  62, 128, 128, 128, 128, 128, 128, 128, 128, 128, 128, 128,\n",
       "         128, 128],\n",
       "        [  4, 128, 128, 128, 128, 128, 128, 128, 128, 128, 128, 128, 128,\n",
       "         128, 128],\n",
       "        [119, 120,  25,  13, 128, 128, 128, 128, 128, 128, 128, 128, 128,\n",
       "         128, 128],\n",
       "        [119, 120,  25,  13, 128, 128, 128, 128, 128, 128, 128, 128, 128,\n",
       "         128, 128],\n",
       "        [119, 120,  52, 128, 128, 128, 128, 128, 128, 128, 128, 128, 128,\n",
       "         128, 128],\n",
       "        [ 49,  66, 106,  84, 128, 128, 128, 128, 128, 128, 128, 128, 128,\n",
       "         128, 128],\n",
       "        [124, 114,  29,  46,  56, 115, 128, 128, 128, 128, 128, 128, 128,\n",
       "         128, 128],\n",
       "        [ 78, 106,  84,   7, 128, 128, 128, 128, 128, 128, 128, 128, 128,\n",
       "         128, 128],\n",
       "        [119,  88,  56,  57,  17, 128, 128, 128, 128, 128, 128, 128, 128,\n",
       "         128, 128],\n",
       "        [ 68, 128, 128, 128, 128, 128, 128, 128, 128, 128, 128, 128, 128,\n",
       "         128, 128],\n",
       "        [ 68, 128, 128, 128, 128, 128, 128, 128, 128, 128, 128, 128, 128,\n",
       "         128, 128],\n",
       "        [119, 118,  21,  92,  89,  43, 128, 128, 128, 128, 128, 128, 128,\n",
       "         128, 128],\n",
       "        [119, 118,  21,  92,  67,  54,  38, 128, 128, 128, 128, 128, 128,\n",
       "         128, 128],\n",
       "        [106,  80,  21,  63,  71, 106,  80,   8, 126,   7,  71,  41, 128,\n",
       "         128, 128],\n",
       "        [106,  80,  21,  63,  71, 106,  80,   8, 126,   7,  71,  41, 128,\n",
       "         128, 128],\n",
       "        [109,  33,  87,  61,  67,  54, 128, 128, 128, 128, 128, 128, 128,\n",
       "         128, 128],\n",
       "        [109, 119, 120,  50, 106,  90,   7, 126,  70, 106, 128, 128, 128,\n",
       "         128, 128],\n",
       "        [105, 124,  74,  83,  18,  91, 124,  73,  40,  28, 113,  35,  58,\n",
       "          59, 128],\n",
       "        [106,  94,   7, 105, 124,  53,  85,  91,   6, 123,  95, 106, 105,\n",
       "         124, 127],\n",
       "        [106,  94,   7, 105, 124,  53,  85,  91,   6, 123,  95, 106, 105,\n",
       "         124, 127],\n",
       "        [ 72, 128, 128, 128, 128, 128, 128, 128, 128, 128, 128, 128, 128,\n",
       "         128, 128],\n",
       "        [106,  94,   7, 105, 124,  53,  85,  91,   6, 123,  95, 106, 105,\n",
       "         124, 127],\n",
       "        [106,  94,   7, 105, 124,  24,  83, 121,  34,  10, 128, 128, 128,\n",
       "         128, 128],\n",
       "        [106,  94,   7, 105, 124,  24,  83, 121,  34, 108, 128, 128, 128,\n",
       "         128, 128],\n",
       "        [106,  94,   7, 105, 124,  24,  83, 121,  34, 122, 128, 128, 128,\n",
       "         128, 128],\n",
       "        [109,  47,  33, 128, 128, 128, 128, 128, 128, 128, 128, 128, 128,\n",
       "         128, 128],\n",
       "        [109,  47,  33, 128, 128, 128, 128, 128, 128, 128, 128, 128, 128,\n",
       "         128, 128],\n",
       "        [ 86,  15,  46, 103,  26, 106,  94,  19, 128, 128, 128, 128, 128,\n",
       "         128, 128],\n",
       "        [ 80, 106,  44,   7, 124,   3, 128, 128, 128, 128, 128, 128, 128,\n",
       "         128, 128],\n",
       "        [109,  34,  33, 128, 128, 128, 128, 128, 128, 128, 128, 128, 128,\n",
       "         128, 128],\n",
       "        [109,  34,  33, 128, 128, 128, 128, 128, 128, 128, 128, 128, 128,\n",
       "         128, 128],\n",
       "        [ 86,  36, 107, 124,  65,  79, 128, 128, 128, 128, 128, 128, 128,\n",
       "         128, 128]]))"
      ]
     },
     "execution_count": 19,
     "metadata": {},
     "output_type": "execute_result"
    },
    {
     "name": "stderr",
     "output_type": "stream",
     "text": [
      "/usr/lib/python2.7/dist-packages/simplejson/encoder.py:269: DeprecationWarning: Interpreting naive datetime as local 2017-04-20 11:11:32.004183. Please add timezone info to timestamps.\n",
      "  chunks = self.iterencode(o, _one_shot=True)\n"
     ]
    }
   ],
   "source": [
    "test,test_target"
   ]
  },
  {
   "cell_type": "markdown",
   "metadata": {
    "deletable": true,
    "editable": true
   },
   "source": [
    "## embedding vector"
   ]
  },
  {
   "cell_type": "code",
   "execution_count": 20,
   "metadata": {
    "collapsed": false,
    "deletable": true,
    "editable": true
   },
   "outputs": [
    {
     "name": "stderr",
     "output_type": "stream",
     "text": [
      "/usr/lib/python2.7/dist-packages/simplejson/encoder.py:269: DeprecationWarning: Interpreting naive datetime as local 2017-04-20 11:11:33.707461. Please add timezone info to timestamps.\n",
      "  chunks = self.iterencode(o, _one_shot=True)\n"
     ]
    }
   ],
   "source": [
    "# one hot encoding is used as an embedding vector\n",
    "\n",
    "vec = np.zeros((vocab_size+1, vocab_size+1))\n",
    "\n",
    "for k in id_to_word.keys():\n",
    "    vec[k][k] = 1\n",
    "\n",
    "# constant tensor for word embedding(one hot)\n",
    "\n",
    "embed = tf.constant(vec, dtype=tf.float32)"
   ]
  },
  {
   "cell_type": "markdown",
   "metadata": {
    "deletable": true,
    "editable": true
   },
   "source": [
    "## initializing variables"
   ]
  },
  {
   "cell_type": "code",
   "execution_count": 21,
   "metadata": {
    "collapsed": false,
    "deletable": true,
    "editable": true
   },
   "outputs": [
    {
     "name": "stderr",
     "output_type": "stream",
     "text": [
      "/usr/lib/python2.7/dist-packages/simplejson/encoder.py:269: DeprecationWarning: Interpreting naive datetime as local 2017-04-20 11:11:34.977617. Please add timezone info to timestamps.\n",
      "  chunks = self.iterencode(o, _one_shot=True)\n"
     ]
    }
   ],
   "source": [
    "input_size = vocab_size+1\n",
    "output_size = vocab_size+1\n",
    "iterations = 5001\n",
    "hidden_layer = 60\n",
    "learning_rate = 0.001\n"
   ]
  },
  {
   "cell_type": "markdown",
   "metadata": {
    "deletable": true,
    "editable": true
   },
   "source": [
    "## initializing random weights "
   ]
  },
  {
   "cell_type": "code",
   "execution_count": 22,
   "metadata": {
    "collapsed": false,
    "deletable": true,
    "editable": true
   },
   "outputs": [
    {
     "name": "stderr",
     "output_type": "stream",
     "text": [
      "/usr/lib/python2.7/dist-packages/simplejson/encoder.py:269: DeprecationWarning: Interpreting naive datetime as local 2017-04-20 11:11:36.302469. Please add timezone info to timestamps.\n",
      "  chunks = self.iterencode(o, _one_shot=True)\n"
     ]
    }
   ],
   "source": [
    "\n",
    "Wxhe=tf.Variable(tf.random_normal(([input_size,hidden_layer]),0,0.1),dtype=tf.float32)\n",
    "\n",
    "Whhe=tf.Variable(tf.random_normal(([hidden_layer,hidden_layer]),0,0.1),dtype=tf.float32)\n",
    "\n",
    "Whye=tf.Variable(tf.random_normal(([hidden_layer,output_size]),0,0.1),dtype=tf.float32)\n"
   ]
  },
  {
   "cell_type": "code",
   "execution_count": 23,
   "metadata": {
    "collapsed": false,
    "deletable": true,
    "editable": true
   },
   "outputs": [
    {
     "name": "stderr",
     "output_type": "stream",
     "text": [
      "/usr/lib/python2.7/dist-packages/simplejson/encoder.py:269: DeprecationWarning: Interpreting naive datetime as local 2017-04-20 11:11:37.109967. Please add timezone info to timestamps.\n",
      "  chunks = self.iterencode(o, _one_shot=True)\n"
     ]
    }
   ],
   "source": [
    "Wxhd=tf.Variable(tf.random_normal(([189,60]),0,0.1),dtype=tf.float32)\n",
    "\n",
    "Whhd=tf.Variable(tf.random_normal(([hidden_layer,hidden_layer]),0,0.1),dtype=tf.float32)\n",
    "\n",
    "Whyd=tf.Variable(tf.random_normal(([120,output_size]),0,0.1),dtype=tf.float32)\n"
   ]
  },
  {
   "cell_type": "markdown",
   "metadata": {
    "deletable": true,
    "editable": true
   },
   "source": [
    "## function to train the RNN"
   ]
  },
  {
   "cell_type": "code",
   "execution_count": 24,
   "metadata": {
    "collapsed": false,
    "deletable": true,
    "editable": true
   },
   "outputs": [
    {
     "name": "stderr",
     "output_type": "stream",
     "text": [
      "/usr/lib/python2.7/dist-packages/simplejson/encoder.py:269: DeprecationWarning: Interpreting naive datetime as local 2017-04-20 11:11:38.526708. Please add timezone info to timestamps.\n",
      "  chunks = self.iterencode(o, _one_shot=True)\n"
     ]
    }
   ],
   "source": [
    "def train_nn(): # execution of training starts with this function\n",
    "    \n",
    "    with tf.variable_scope(\"train_nn\"):\n",
    "        \n",
    "        #placeholder for input, output and hidden state and previous outputs of encoder and decoder\n",
    "        loss_plot,itr=[],[]\n",
    "        \n",
    "        x=tf.placeholder(shape=[None,max_length], dtype=tf.int32) \n",
    "        y=tf.placeholder(shape=[None,None],dtype=tf.int32)\n",
    "        \n",
    "        hinit = tf.placeholder(shape=[None, hidden_layer], dtype=tf.float32)\n",
    "        \n",
    "        xinit=tf.placeholder(shape=[None,vocab_size+1],dtype=tf.float32)\n",
    "        \n",
    "        prob=tf.placeholder(shape=[None,vocab_size+1],dtype=tf.float32)\n",
    "        \n",
    "        context_vec=tf.placeholder(shape=[None,hidden_layer],dtype=tf.float32)\n",
    "\n",
    "        #embedding target as one hot\n",
    "        Y_embed = tf.nn.embedding_lookup(embed,y)\n",
    "\n",
    "        # encoder_output is the context vector and encoder state is the hidden state of lat time space\n",
    "        encoder_output,encoder_states,last_ht=encoder(x,hinit,xinit)\n",
    "\n",
    "        #decoder_output is the output of decoder(as an output of softmax layer)\n",
    "        decoder_output=decoder(x,encoder_output,tf.transpose(encoder_states,[1,0,2]),prob,last_ht,context_vec)\n",
    "        decoder_output = tf.transpose(decoder_output, [1, 0, 2])\n",
    "        \n",
    "        #takes the argmax of output to find the indices of the corresponding word \n",
    "        decoder_output_arg=tf.argmax(decoder_output,axis=2)\n",
    "        one_hot_out=tf.nn.embedding_lookup(embed,(tf.cast(decoder_output_arg, tf.int32)))\n",
    "        \n",
    "        #loss takes the mean of all the samples loss (loss function used is softmax_cross_entropy_with_logits)\n",
    "        loss=tf.reduce_mean(tf.nn.softmax_cross_entropy_with_logits(logits=decoder_output,labels=Y_embed))\n",
    "        \n",
    "        optimizer=tf.train.AdamOptimizer(0.001).minimize(loss)\n",
    "        \n",
    "        with tf.Session() as session:\n",
    "\n",
    "            session.run(tf.global_variables_initializer()) #initializes the variables\n",
    "            session.run(tf.local_variables_initializer())\n",
    "            \n",
    "            #iterating the loop\n",
    "            for i in range(60001):\n",
    "                \n",
    "                #runs the loss and optimizer function by feeding train, target and hidden state to their placeholders \n",
    "                #l is the loss at each iteration\n",
    "                \n",
    "                l,_=session.run([loss,optimizer],\n",
    "                feed_dict={x:train, y:target,hinit:np.zeros((30,hidden_layer)),xinit:np.zeros((30,vocab_size+1))\n",
    "                    ,prob:np.zeros((30,vocab_size+1)),context_vec:np.zeros((30,hidden_layer))})\n",
    "                \n",
    "                loss_plot.append(l)\n",
    "                itr.append(i)\n",
    "                \n",
    "                if i%1000==0:\n",
    "                    print \"loss for\",i,\"iteration:\",l\n",
    "                    loss_plot.append(l)\n",
    "                    itr.append(i)\n",
    "                \n",
    "                #predict outputs the decoders output after each weight tuning at each iteration\n",
    "                \n",
    "                \n",
    "                    predict = session.run(decoder_output_arg,\n",
    "                    {x:train, y:target,hinit:np.zeros((30,hidden_layer)),xinit:np.zeros((30,vocab_size+1)),\n",
    "                     prob:np.zeros((30,vocab_size+1)),context_vec:np.zeros((30,hidden_layer))})\n",
    "                \n",
    "                if(i%5000==0):\n",
    "                    \n",
    "                    \n",
    "                    for j in range(20,29):#print predicted result of training 10 sample \n",
    "\n",
    "                        print(\"chat1 : \", [[id_to_word[w] for w in sent] for sent in train][j])\n",
    "                        print(\"chat2 : \", [[id_to_word[w] for w in sent] for sent in predict][j])\n",
    "                        \n",
    "                        \n",
    "                        \n",
    "            print\"---------Training over------------\"\n",
    "            \n",
    "            print \"---testing the trained model with test data----\"\n",
    "            \n",
    "            out_test = session.run(decoder_output_arg, {x:test, \n",
    "                hinit: np.zeros((33, hidden_layer)),xinit:np.zeros((33,vocab_size+1)),\n",
    "                prob:np.zeros((33,vocab_size+1)),context_vec:np.zeros((33,hidden_layer))})\n",
    "            \n",
    "            for k in range(33):#print predicted result of test samples\n",
    "\n",
    "                        print(\"chat1 : \", [[id_to_word[w] for w in sent] for sent in test][k])\n",
    "                        print(\"chat2 : \", [[id_to_word[w] for w in sent] for sent in out_test][k])\n",
    "                        \n",
    "            #calculating accuracy of test samples\n",
    "                        \n",
    "            correct_pred=tf.equal(out_test,test_target)\n",
    "            \n",
    "            accuracy=tf.reduce_mean(tf.cast(correct_pred,'float'))  \n",
    "            \n",
    "            a=accuracy.eval(feed_dict={x:test, y:test_target,\n",
    "                hinit: np.zeros((33, hidden_layer)),xinit:np.zeros((33,vocab_size+1)),\n",
    "                prob:np.zeros((33,vocab_size+1)),context_vec:np.zeros((33,hidden_layer))})\n",
    "            \n",
    "            print \"accuracy of test samples\",a\n",
    "                        \n",
    "            return loss_plot,itr"
   ]
  },
  {
   "cell_type": "markdown",
   "metadata": {
    "collapsed": true,
    "deletable": true,
    "editable": true
   },
   "source": [
    "## encoder function to find the context vector and hidden state of input sequence"
   ]
  },
  {
   "cell_type": "code",
   "execution_count": 25,
   "metadata": {
    "collapsed": false,
    "deletable": true,
    "editable": true
   },
   "outputs": [
    {
     "name": "stderr",
     "output_type": "stream",
     "text": [
      "/usr/lib/python2.7/dist-packages/simplejson/encoder.py:269: DeprecationWarning: Interpreting naive datetime as local 2017-04-20 11:11:41.597793. Please add timezone info to timestamps.\n",
      "  chunks = self.iterencode(o, _one_shot=True)\n"
     ]
    }
   ],
   "source": [
    "def encoder(X,hinit,xinit):#takes input sequence and initial hidden state and initial output \n",
    "    \n",
    "    with tf.variable_scope(\"encoder\"):\n",
    "        \n",
    "        #embedding for train to one hot\n",
    "        X_embed = tf.nn.embedding_lookup(embed,X)\n",
    "        X_embed = tf.transpose(X_embed, [1, 0, 2])\n",
    "\n",
    "        #list of hidden state and output\n",
    "        con=[hinit,xinit]\n",
    "        \n",
    "        #scans encoder's helper function RNN_enc \n",
    "        output= tf.scan(RNN_enc, X_embed, initializer=con)\n",
    "  \n",
    "        \n",
    "        h_t=output[0]\n",
    "        y_t=output[1]\n",
    "        \n",
    "        last_ht=h_t[-1]\n",
    "        y_t=y_t[-1]\n",
    "\n",
    "        \n",
    "        arg=tf.argmax(y_t,axis=1)\n",
    "        arg_one_hot=tf.nn.embedding_lookup(embed,(tf.cast(arg, tf.int32)))\n",
    "        \n",
    "        #returns one hot vector of encoder's output and hidden state\n",
    "        return arg_one_hot,h_t,last_ht\n"
   ]
  },
  {
   "cell_type": "markdown",
   "metadata": {
    "deletable": true,
    "editable": true
   },
   "source": [
    "## encoder's helper function"
   ]
  },
  {
   "cell_type": "code",
   "execution_count": 26,
   "metadata": {
    "collapsed": false,
    "deletable": true,
    "editable": true
   },
   "outputs": [
    {
     "name": "stderr",
     "output_type": "stream",
     "text": [
      "/usr/lib/python2.7/dist-packages/simplejson/encoder.py:269: DeprecationWarning: Interpreting naive datetime as local 2017-04-20 11:11:42.901862. Please add timezone info to timestamps.\n",
      "  chunks = self.iterencode(o, _one_shot=True)\n"
     ]
    }
   ],
   "source": [
    "def RNN_enc(h, x_t):#helper function of encoder (takes hidden states,output and input sequence)\n",
    "    \n",
    "    with tf.variable_scope('RNN_enc'):\n",
    "        \n",
    "            #reshapes input sequence\n",
    "            x_t = tf.reshape(x_t, [-1, input_size])\n",
    "            x_t=tf.cast(x_t, tf.float32)\n",
    "\n",
    "            #reshapes hidden state\n",
    "            hprev = tf.reshape(h[0], [-1, hidden_layer])\n",
    "\n",
    "            #h_t calculates the wighted sum of inputs and hidden  state of previous layes \n",
    "            #and then pass it to the activation function\n",
    "            \n",
    "            h_t=tf.tanh(tf.matmul(hprev,Whhe) + tf.matmul(x_t,Wxhe))\n",
    "            h_t = tf.reshape(h_t, [-1, hidden_layer])\n",
    "\n",
    "            #out is the output from the softmax layer\n",
    "            out=tf.nn.softmax(tf.matmul(h_t,Whye))\n",
    "\n",
    "\n",
    "            x_and_h=[h_t,out]        \n",
    "\n",
    "            #reurns list of hidden state and ouput of encoder\n",
    "            return x_and_h"
   ]
  },
  {
   "cell_type": "markdown",
   "metadata": {
    "deletable": true,
    "editable": true
   },
   "source": [
    "## decoder function"
   ]
  },
  {
   "cell_type": "code",
   "execution_count": 27,
   "metadata": {
    "collapsed": false,
    "deletable": true,
    "editable": true
   },
   "outputs": [
    {
     "name": "stderr",
     "output_type": "stream",
     "text": [
      "/usr/lib/python2.7/dist-packages/simplejson/encoder.py:269: DeprecationWarning: Interpreting naive datetime as local 2017-04-20 11:11:44.762352. Please add timezone info to timestamps.\n",
      "  chunks = self.iterencode(o, _one_shot=True)\n"
     ]
    }
   ],
   "source": [
    "def decoder(X,xprev,s,prob,last_ht,context_vec):\n",
    "    \n",
    "    #takes input sequence  \n",
    "    #last hidden state from encoder \n",
    "    #hidden states of encoder\n",
    "    #initial input to decoder \n",
    "    #context vector\n",
    "    \n",
    "    with tf.variable_scope(\"decoder\"):\n",
    "        \n",
    "        #embedding for train to one hot\n",
    "        X_embed = tf.nn.embedding_lookup(embed,X)\n",
    "        X_embed = tf.transpose(X_embed, [1, 0, 2])\n",
    "\n",
    "        #list of hidden states,output of previous state\n",
    "        con=[s,xprev,prob,last_ht,context_vec]\n",
    "\n",
    "        #scans decoder's helper function RNN_enc \n",
    "        output= tf.scan(RNN_dec, X_embed, initializer=con)\n",
    "\n",
    "        h_dec=output[0]\n",
    "\n",
    "        out_prob=output[2]\n",
    "        \n",
    "        #returns output from decoder\n",
    "        return out_prob\n"
   ]
  },
  {
   "cell_type": "markdown",
   "metadata": {
    "deletable": true,
    "editable": true
   },
   "source": [
    "## decoder's helper function"
   ]
  },
  {
   "cell_type": "code",
   "execution_count": 28,
   "metadata": {
    "collapsed": false,
    "deletable": true,
    "editable": true
   },
   "outputs": [
    {
     "name": "stderr",
     "output_type": "stream",
     "text": [
      "/usr/lib/python2.7/dist-packages/simplejson/encoder.py:269: DeprecationWarning: Interpreting naive datetime as local 2017-04-20 11:11:46.358798. Please add timezone info to timestamps.\n",
      "  chunks = self.iterencode(o, _one_shot=True)\n"
     ]
    }
   ],
   "source": [
    "def RNN_dec(h, x_t):\n",
    "    \n",
    "     #takes hidden state of previous time state\n",
    "     #ouput of previous state\n",
    "     #input sequence just for the sake of working of scan function to iterate\n",
    "     #all hidden states of encoder\n",
    "     #context vector\n",
    "        \n",
    "        with tf.variable_scope('RNN_dec'):\n",
    "            \n",
    "            hprev=h[3]\n",
    "            yprev=h[1]\n",
    "            enc_state=h[0]\n",
    "            context=h[4]\n",
    "            \n",
    "            #reshape\n",
    "            hprev = tf.reshape(hprev, [-1, hidden_layer])\n",
    "\n",
    "            yprev = tf.reshape(yprev, [-1, input_size])\n",
    "            \n",
    "            \n",
    "            #h_t calculates the wighted sum of inputs and hidden  state of previous layes \n",
    "            #and then pass it to the activation function\n",
    "            \n",
    "            y_and_c=tf.concat([yprev,context],axis=1)\n",
    "            \n",
    "            h_t=tf.tanh(tf.matmul(y_and_c,Wxhd)+tf.matmul(hprev,Whhd))\n",
    "            h_t = tf.reshape(h_t, [-1, hidden_layer])\n",
    "\n",
    "            \n",
    "            attention_score=tf.multiply(enc_state,tf.expand_dims(h_t, 1))  \n",
    "            \n",
    "            \n",
    "            attention_score=tf.transpose(attention_score,[0,2,1])\n",
    "            \n",
    "            attention_score=tf.reduce_sum(attention_score,axis=1)\n",
    "            \n",
    "            attention_score=tf.nn.softmax(attention_score)\n",
    "            \n",
    "            \n",
    "            \n",
    "            context=tf.multiply(tf.transpose(enc_state,[0,2,1]),tf.expand_dims(attention_score,1))\n",
    "             \n",
    "            \n",
    "            context=tf.reduce_sum(tf.transpose(context,[0,2,1]),axis=1)\n",
    "            \n",
    "            \n",
    "            con=tf.concat([h_t,context],axis=1)\n",
    "            \n",
    "            #out is the output from the softmax layer\n",
    "            out=tf.nn.softmax(tf.matmul(con,Whyd))\n",
    "            \n",
    "            arg=tf.argmax(out,axis=1)\n",
    "            arg_one_hot=tf.nn.embedding_lookup(embed,arg)\n",
    "\n",
    "            x_and_h=[enc_state,arg_one_hot,out,h_t,context] \n",
    "            \n",
    "            #reurns list of hidden states,context vector and ouput of decoder\n",
    "            return x_and_h"
   ]
  },
  {
   "cell_type": "markdown",
   "metadata": {
    "deletable": true,
    "editable": true
   },
   "source": [
    "## function to start the execution of training"
   ]
  },
  {
   "cell_type": "code",
   "execution_count": 29,
   "metadata": {
    "collapsed": false,
    "deletable": true,
    "editable": true
   },
   "outputs": [
    {
     "name": "stdout",
     "output_type": "stream",
     "text": [
      "loss for 0 iteration: 4.85965\n",
      "('chat1 : ', ['how', 'to', 'get', 'to', 'your', 'office', 'if', 'i', 'come', 'from', 'switzerland', '', '', '', ''])\n",
      "('chat2 : ', ['sure', 'switzerland', '', 'may', 'am', 'urgent', 'station', 'station', 'i', 'sure', 'urgent', 'station', 'hi', 'on', 'in'])\n",
      "('chat1 : ', ['how', 'to', 'get', 'to', 'your', 'office', 'if', 'i', 'come', 'by', 'car', '', '', '', ''])\n",
      "('chat2 : ', ['sure', 'switzerland', '', 'in', 'in', 'in', 'in', 'in', 'in', 'in', 'in', 'in', 'in', 'in', 'in'])\n",
      "('chat1 : ', ['how', 'to', 'get', 'to', 'your', 'office', 'if', 'i', 'come', 'by', 'bike', '', '', '', ''])\n",
      "('chat2 : ', ['sure', 'switzerland', '', 'in', 'in', 'in', 'in', 'in', 'in', 'in', 'in', 'in', 'in', 'in', 'in'])\n",
      "('chat1 : ', ['how', 'to', 'get', 'to', 'your', 'office', 'if', 'i', 'come', 'by', 'motobike', '', '', '', ''])\n",
      "('chat2 : ', ['sure', 'switzerland', '', 'in', 'in', 'in', 'in', 'in', 'in', 'in', 'in', 'in', 'in', 'in', 'in'])\n",
      "('chat1 : ', ['i', 'need', 'to', 'make', 'an', 'appointment', '', '', '', '', '', '', '', '', ''])\n",
      "('chat2 : ', ['station', 'switzerland', '', 'depends', 'urgent', 'by', 'station', 'fill', 'depends', 'depends', 'on', '5mins', 'station', 'number', 'depends'])\n",
      "('chat1 : ', ['i', 'need', 'to', 'see', 'the', 'doctor', '', '', '', '', '', '', '', '', ''])\n",
      "('chat2 : ', ['sure', 'terminus', 'doctor', 'below', 'the', 'depends', 'station', 'nameless', 'my', 'hi', '40mins', 'in', '40mins', '40mins', 'today'])\n",
      "('chat1 : ', ['when', 'is', 'the', 'doctor', 'free', '', '', '', '', '', '', '', '', '', ''])\n",
      "('chat2 : ', ['sure', 'terminus', 'doctor', 'depends', 'terminus', '', 'station', 'station', 'i', 'depends', 'depends', 'terminus', 'doctor', 'doctor', 'terminus'])\n",
      "('chat1 : ', ['i', 'need', 'to', 'renew', 'my', 'prescription', '', '', '', '', '', '', '', '', ''])\n",
      "('chat2 : ', ['sure', 'switzerland', '', 'depends', 'depends', 'want', '5mins', 'name', 'depends', 'nameless', 'on', 'form', 'if', 'form', 'depends'])\n",
      "('chat1 : ', ['i', 'need', 'to', 'make', 'an', 'appointment', 'for', 'my', 'husband', '', '', '', '', '', ''])\n",
      "('chat2 : ', ['needs', 'form', 'station', 'my', 'depends', 'station', 'only', 'depends', 'who', 'fill', 'depends', 'talk', 'on', 'bordeaux', 'whenever'])\n",
      "loss for 1000 iteration: 4.31974\n",
      "loss for 2000 iteration: 4.31972\n",
      "loss for 3000 iteration: 4.31971\n",
      "loss for 4000 iteration: 4.31971\n",
      "loss for 5000 iteration: 4.31971\n",
      "('chat1 : ', ['how', 'to', 'get', 'to', 'your', 'office', 'if', 'i', 'come', 'from', 'switzerland', '', '', '', ''])\n",
      "('chat2 : ', ['i', '', '', '', '', '', '', '', '', '', '', '', '', '', ''])\n",
      "('chat1 : ', ['how', 'to', 'get', 'to', 'your', 'office', 'if', 'i', 'come', 'by', 'car', '', '', '', ''])\n",
      "('chat2 : ', ['i', '', '', '', '', '', '', '', '', '', '', '', '', '', ''])\n",
      "('chat1 : ', ['how', 'to', 'get', 'to', 'your', 'office', 'if', 'i', 'come', 'by', 'bike', '', '', '', ''])\n",
      "('chat2 : ', ['i', '', '', '', '', '', '', '', '', '', '', '', '', '', ''])\n",
      "('chat1 : ', ['how', 'to', 'get', 'to', 'your', 'office', 'if', 'i', 'come', 'by', 'motobike', '', '', '', ''])\n",
      "('chat2 : ', ['i', '', '', '', '', '', '', '', '', '', '', '', '', '', ''])\n",
      "('chat1 : ', ['i', 'need', 'to', 'make', 'an', 'appointment', '', '', '', '', '', '', '', '', ''])\n",
      "('chat2 : ', ['i', '', '', '', '', '', '', '', '', '', '', '', '', '', ''])\n",
      "('chat1 : ', ['i', 'need', 'to', 'see', 'the', 'doctor', '', '', '', '', '', '', '', '', ''])\n",
      "('chat2 : ', ['i', '', '', '', '', '', '', '', '', '', '', '', '', '', ''])\n",
      "('chat1 : ', ['when', 'is', 'the', 'doctor', 'free', '', '', '', '', '', '', '', '', '', ''])\n",
      "('chat2 : ', ['i', '', '', '', '', '', '', '', '', '', '', '', '', '', ''])\n",
      "('chat1 : ', ['i', 'need', 'to', 'renew', 'my', 'prescription', '', '', '', '', '', '', '', '', ''])\n",
      "('chat2 : ', ['i', '', '', '', '', '', '', '', '', '', '', '', '', '', ''])\n",
      "('chat1 : ', ['i', 'need', 'to', 'make', 'an', 'appointment', 'for', 'my', 'husband', '', '', '', '', '', ''])\n",
      "('chat2 : ', ['i', '', '', '', '', '', '', '', '', '', '', '', '', '', ''])\n",
      "loss for 6000 iteration: 4.31971\n",
      "loss for 7000 iteration: 4.31971\n",
      "loss for 8000 iteration: 4.2997\n",
      "loss for 9000 iteration: 4.28183\n",
      "loss for 10000 iteration: 4.27728\n",
      "('chat1 : ', ['how', 'to', 'get', 'to', 'your', 'office', 'if', 'i', 'come', 'from', 'switzerland', '', '', '', ''])\n",
      "('chat2 : ', ['take', 'need', '', '', '', '', '', '', '', '', '', '', '', '', ''])\n",
      "('chat1 : ', ['how', 'to', 'get', 'to', 'your', 'office', 'if', 'i', 'come', 'by', 'car', '', '', '', ''])\n",
      "('chat2 : ', ['take', 'need', '', '', '', '', '', '', '', '', '', '', '', '', ''])\n",
      "('chat1 : ', ['how', 'to', 'get', 'to', 'your', 'office', 'if', 'i', 'come', 'by', 'bike', '', '', '', ''])\n",
      "('chat2 : ', ['take', 'need', '', '', '', '', '', '', '', '', '', '', '', '', ''])\n",
      "('chat1 : ', ['how', 'to', 'get', 'to', 'your', 'office', 'if', 'i', 'come', 'by', 'motobike', '', '', '', ''])\n",
      "('chat2 : ', ['take', 'need', '', '', '', '', '', '', '', '', '', '', '', '', ''])\n",
      "('chat1 : ', ['i', 'need', 'to', 'make', 'an', 'appointment', '', '', '', '', '', '', '', '', ''])\n",
      "('chat2 : ', ['take', 'about', 'nameless', '', '', '', '', '', '', '', '', '', '', '', ''])\n",
      "('chat1 : ', ['i', 'need', 'to', 'see', 'the', 'doctor', '', '', '', '', '', '', '', '', ''])\n",
      "('chat2 : ', ['i', 'about', 'nameless', '', '', '', '', '', '', '', '', '', '', '', ''])\n",
      "('chat1 : ', ['when', 'is', 'the', 'doctor', 'free', '', '', '', '', '', '', '', '', '', ''])\n",
      "('chat2 : ', ['i', 'i', '', '', '', '', '', '', '', '', '', '', '', '', ''])\n",
      "('chat1 : ', ['i', 'need', 'to', 'renew', 'my', 'prescription', '', '', '', '', '', '', '', '', ''])\n",
      "('chat2 : ', ['take', 'i', '', '', '', '', '', '', '', '', '', '', '', '', ''])\n",
      "('chat1 : ', ['i', 'need', 'to', 'make', 'an', 'appointment', 'for', 'my', 'husband', '', '', '', '', '', ''])\n",
      "('chat2 : ', ['take', 'about', 'nameless', '', '', '', '', '', '', '', '', '', '', '', ''])\n",
      "loss for 11000 iteration: 4.27502\n",
      "loss for 12000 iteration: 4.28671\n",
      "loss for 13000 iteration: 4.23733\n",
      "loss for 14000 iteration: 4.22827\n",
      "loss for 15000 iteration: 4.20174\n",
      "('chat1 : ', ['how', 'to', 'get', 'to', 'your', 'office', 'if', 'i', 'come', 'from', 'switzerland', '', '', '', ''])\n",
      "('chat2 : ', ['you', 'the', 'to', 'and', 'the', 'the', 'the', 'the', 'the', 'the', 'the', 'the', 'the', 'the', 'the'])\n",
      "('chat1 : ', ['how', 'to', 'get', 'to', 'your', 'office', 'if', 'i', 'come', 'by', 'car', '', '', '', ''])\n",
      "('chat2 : ', ['you', 'the', 'to', 'and', 'the', 'periph', 'and', 'the', 'periph', 'the', 'and', 'the', 'and', 'the', 'and'])\n",
      "('chat1 : ', ['how', 'to', 'get', 'to', 'your', 'office', 'if', 'i', 'come', 'by', 'bike', '', '', '', ''])\n",
      "('chat2 : ', ['you', 'the', 'to', 'and', 'the', 'periph', 'and', 'the', 'periph', 'the', 'and', 'the', 'and', 'the', 'and'])\n",
      "('chat1 : ', ['how', 'to', 'get', 'to', 'your', 'office', 'if', 'i', 'come', 'by', 'motobike', '', '', '', ''])\n",
      "('chat2 : ', ['you', 'the', 'to', 'and', 'the', 'periph', 'and', 'the', 'periph', 'the', 'and', 'the', 'and', 'the', 'and'])\n",
      "('chat1 : ', ['i', 'need', 'to', 'make', 'an', 'appointment', '', '', '', '', '', '', '', '', ''])\n",
      "('chat2 : ', ['sure', 'about', 'what', '', '', '', '', '', '', '', '', '', '', '', ''])\n",
      "('chat1 : ', ['i', 'need', 'to', 'see', 'the', 'doctor', '', '', '', '', '', '', '', '', ''])\n",
      "('chat2 : ', ['sure', 'about', 'what', '', '', '', '', '', '', '', '', '', '', '', ''])\n",
      "('chat1 : ', ['when', 'is', 'the', 'doctor', 'free', '', '', '', '', '', '', '', '', '', ''])\n",
      "('chat2 : ', ['sure', 'depends', 'on', '', '', '', '', '', '', '', '', '', '', '', ''])\n",
      "('chat1 : ', ['i', 'need', 'to', 'renew', 'my', 'prescription', '', '', '', '', '', '', '', '', ''])\n",
      "('chat2 : ', ['sure', 'can', 'what', '', '', '', '', '', '', '', '', '', '', '', ''])\n",
      "('chat1 : ', ['i', 'need', 'to', 'make', 'an', 'appointment', 'for', 'my', 'husband', '', '', '', '', '', ''])\n",
      "('chat2 : ', ['sure', 'about', 'what', '', '', '', '', '', '', '', '', '', '', '', ''])\n",
      "loss for 16000 iteration: 4.19267\n",
      "loss for 17000 iteration: 4.18162\n",
      "loss for 18000 iteration: 4.16831\n",
      "loss for 19000 iteration: 4.15724\n",
      "loss for 20000 iteration: 4.15272\n",
      "('chat1 : ', ['how', 'to', 'get', 'to', 'your', 'office', 'if', 'i', 'come', 'from', 'switzerland', '', '', '', ''])\n",
      "('chat2 : ', ['you', 'the', 'to', 'and', 'the', 'periph', 'the', 'the', 'the', 'the', 'the', 'the', 'the', 'the', 'the'])\n",
      "('chat1 : ', ['how', 'to', 'get', 'to', 'your', 'office', 'if', 'i', 'come', 'by', 'car', '', '', '', ''])\n",
      "('chat2 : ', ['you', 'the', 'to', 'and', 'the', 'periph', 'and', 'and', 'for', 'for', 'periph', 'and', 'for', 'periph', 'your'])\n",
      "('chat1 : ', ['how', 'to', 'get', 'to', 'your', 'office', 'if', 'i', 'come', 'by', 'bike', '', '', '', ''])\n",
      "('chat2 : ', ['you', 'the', 'to', 'and', 'the', 'periph', 'and', 'and', 'for', 'for', 'the', 'the', 'periph', 'and', 'for'])\n",
      "('chat1 : ', ['how', 'to', 'get', 'to', 'your', 'office', 'if', 'i', 'come', 'by', 'motobike', '', '', '', ''])\n",
      "('chat2 : ', ['you', 'the', 'to', 'and', 'the', 'periph', 'and', 'and', 'for', 'for', 'the', 'the', 'periph', 'and', 'for'])\n",
      "('chat1 : ', ['i', 'need', 'to', 'make', 'an', 'appointment', '', '', '', '', '', '', '', '', ''])\n",
      "('chat2 : ', ['sure', 'about', 'what', '', '', '', '', '', '', '', '', '', '', '', ''])\n",
      "('chat1 : ', ['i', 'need', 'to', 'see', 'the', 'doctor', '', '', '', '', '', '', '', '', ''])\n",
      "('chat2 : ', ['sure', 'about', 'what', '', '', '', '', '', '', '', '', '', '', '', ''])\n",
      "('chat1 : ', ['when', 'is', 'the', 'doctor', 'free', '', '', '', '', '', '', '', '', '', ''])\n",
      "('chat2 : ', ['well', 'depends', 'on', 'how', 'me', '', '', '', '', '', '', '', '', '', ''])\n",
      "('chat1 : ', ['i', 'need', 'to', 'renew', 'my', 'prescription', '', '', '', '', '', '', '', '', ''])\n",
      "('chat2 : ', ['whenever', 'please', 'come', 'to', 'i', '', '', '', '', '', '', '', '', '', ''])\n",
      "('chat1 : ', ['i', 'need', 'to', 'make', 'an', 'appointment', 'for', 'my', 'husband', '', '', '', '', '', ''])\n",
      "('chat2 : ', ['sure', 'about', 'what', '', '', '', '', '', '', '', '', '', '', '', ''])\n",
      "loss for 21000 iteration: 4.13276\n",
      "loss for 22000 iteration: 4.12827\n",
      "loss for 23000 iteration: 4.1238\n",
      "loss for 24000 iteration: 4.11978\n",
      "loss for 25000 iteration: 4.1127\n",
      "('chat1 : ', ['how', 'to', 'get', 'to', 'your', 'office', 'if', 'i', 'come', 'from', 'switzerland', '', '', '', ''])\n",
      "('chat2 : ', ['you', 'the', 'to', 'and', 'the', 'the', 'the', 'the', 'the', 'the', 'the', 'the', 'the', 'the', 'the'])\n",
      "('chat1 : ', ['how', 'to', 'get', 'to', 'your', 'office', 'if', 'i', 'come', 'by', 'car', '', '', '', ''])\n",
      "('chat2 : ', ['you', 'the', 'to', 'and', 'the', 'periph', 'and', 'drive', 'for', '30mins', '30mins', 'for', 'drive', 'drive', 'drive'])\n",
      "('chat1 : ', ['how', 'to', 'get', 'to', 'your', 'office', 'if', 'i', 'come', 'by', 'bike', '', '', '', ''])\n",
      "('chat2 : ', ['you', 'the', 'to', 'and', 'the', 'periph', 'and', 'drive', 'for', '30mins', '30mins', 'for', 'drive', 'drive', 'drive'])\n",
      "('chat1 : ', ['how', 'to', 'get', 'to', 'your', 'office', 'if', 'i', 'come', 'by', 'motobike', '', '', '', ''])\n",
      "('chat2 : ', ['you', 'the', 'to', 'and', 'the', 'periph', 'and', 'drive', 'for', '30mins', '30mins', 'for', '30mins', 'drive', 'drive'])\n",
      "('chat1 : ', ['i', 'need', 'to', 'make', 'an', 'appointment', '', '', '', '', '', '', '', '', ''])\n",
      "('chat2 : ', ['sure', 'about', 'what', '', '', '', '', '', '', '', '', '', '', '', ''])\n",
      "('chat1 : ', ['i', 'need', 'to', 'see', 'the', 'doctor', '', '', '', '', '', '', '', '', ''])\n",
      "('chat2 : ', ['sure', 'about', 'what', '', '', '', '', '', '', '', '', '', '', '', ''])\n",
      "('chat1 : ', ['when', 'is', 'the', 'doctor', 'free', '', '', '', '', '', '', '', '', '', ''])\n",
      "('chat2 : ', ['well', 'depends', 'on', 'how', 'urgent', '', '', '', '', '', '', '', '', '', ''])\n",
      "('chat1 : ', ['i', 'need', 'to', 'renew', 'my', 'prescription', '', '', '', '', '', '', '', '', ''])\n",
      "('chat2 : ', ['sure', 'you', 'come', 'to', 'you', 'clinic', '', '', '', '', '', '', '', '', ''])\n",
      "('chat1 : ', ['i', 'need', 'to', 'make', 'an', 'appointment', 'for', 'my', 'husband', '', '', '', '', '', ''])\n",
      "('chat2 : ', ['sure', 'about', 'what', '', '', '', '', '', '', '', '', '', '', '', ''])\n",
      "loss for 26000 iteration: 4.1083\n",
      "loss for 27000 iteration: 4.09937\n",
      "loss for 28000 iteration: 4.09048\n",
      "loss for 29000 iteration: 4.07715\n",
      "loss for 30000 iteration: 4.133\n",
      "('chat1 : ', ['how', 'to', 'get', 'to', 'your', 'office', 'if', 'i', 'come', 'from', 'switzerland', '', '', '', ''])\n",
      "('chat2 : ', ['you', 'the', 'to', 'and', 'the', 'periph', 'and', 'drive', 'for', '30mins', 'away', 'away', 'from', 'there', 'from'])\n",
      "('chat1 : ', ['how', 'to', 'get', 'to', 'your', 'office', 'if', 'i', 'come', 'by', 'car', '', '', '', ''])\n",
      "('chat2 : ', ['you', 'the', 'to', 'and', 'the', 'periph', 'and', 'drive', 'for', '30mins', 'away', 'away', 'from', 'there', 'from'])\n",
      "('chat1 : ', ['how', 'to', 'get', 'to', 'your', 'office', 'if', 'i', 'come', 'by', 'bike', '', '', '', ''])\n",
      "('chat2 : ', ['you', 'the', 'to', 'and', 'the', 'periph', 'and', 'drive', 'for', '30mins', 'away', 'away', 'from', 'there', 'from'])\n",
      "('chat1 : ', ['how', 'to', 'get', 'to', 'your', 'office', 'if', 'i', 'come', 'by', 'motobike', '', '', '', ''])\n",
      "('chat2 : ', ['you', 'the', 'to', 'and', 'the', 'periph', 'and', 'drive', 'for', '30mins', 'away', 'away', 'from', 'there', 'from'])\n",
      "('chat1 : ', ['i', 'need', 'to', 'make', 'an', 'appointment', '', '', '', '', '', '', '', '', ''])\n",
      "('chat2 : ', ['sure', 'about', 'what', '', '', '', '', '', '', '', '', '', '', '', ''])\n",
      "('chat1 : ', ['i', 'need', 'to', 'see', 'the', 'doctor', '', '', '', '', '', '', '', '', ''])\n",
      "('chat2 : ', ['sure', 'about', 'what', '', '', '', '', '', '', '', '', '', '', '', ''])\n",
      "('chat1 : ', ['when', 'is', 'the', 'doctor', 'free', '', '', '', '', '', '', '', '', '', ''])\n",
      "('chat2 : ', ['well', 'depends', 'on', 'how', 'urgent', 'number', '', '', '', '', '', '', '', '', ''])\n",
      "('chat1 : ', ['i', 'need', 'to', 'renew', 'my', 'prescription', '', '', '', '', '', '', '', '', ''])\n",
      "('chat2 : ', ['sure', 'you', 'come', 'to', 'fill', 'clinic', '', '', '', '', '', '', '', '', ''])\n",
      "('chat1 : ', ['i', 'need', 'to', 'make', 'an', 'appointment', 'for', 'my', 'husband', '', '', '', '', '', ''])\n",
      "('chat2 : ', ['sure', 'about', 'what', '', '', '', '', '', '', '', '', '', '', '', ''])\n",
      "loss for 31000 iteration: 4.09954\n",
      "loss for 32000 iteration: 4.09951\n",
      "loss for 33000 iteration: 4.09948\n",
      "loss for 34000 iteration: 4.09947\n",
      "loss for 35000 iteration: 4.09749\n",
      "('chat1 : ', ['how', 'to', 'get', 'to', 'your', 'office', 'if', 'i', 'come', 'from', 'switzerland', '', '', '', ''])\n",
      "('chat2 : ', ['you', 'need', 'to', 'and', 'the', 'at', 'and', 'drive', 'for', '30mins', 'station', 'away', 'from', 'there', 'subway'])\n",
      "('chat1 : ', ['how', 'to', 'get', 'to', 'your', 'office', 'if', 'i', 'come', 'by', 'car', '', '', '', ''])\n",
      "('chat2 : ', ['you', 'need', 'to', 'and', 'the', 'periph', 'and', 'drive', 'for', '30mins', 'station', 'away', 'from', 'there', 'subway'])\n",
      "('chat1 : ', ['how', 'to', 'get', 'to', 'your', 'office', 'if', 'i', 'come', 'by', 'bike', '', '', '', ''])\n",
      "('chat2 : ', ['you', 'need', 'to', 'and', 'the', 'periph', 'and', 'drive', 'for', '30mins', 'station', 'away', 'from', 'there', 'subway'])\n",
      "('chat1 : ', ['how', 'to', 'get', 'to', 'your', 'office', 'if', 'i', 'come', 'by', 'motobike', '', '', '', ''])\n",
      "('chat2 : ', ['you', 'need', 'to', 'and', 'the', 'periph', 'and', 'drive', 'for', '30mins', 'station', 'away', 'from', 'there', 'subway'])\n",
      "('chat1 : ', ['i', 'need', 'to', 'make', 'an', 'appointment', '', '', '', '', '', '', '', '', ''])\n",
      "('chat2 : ', ['sure', 'about', 'what', '', '', '', '', '', '', '', '', '', '', '', ''])\n",
      "('chat1 : ', ['i', 'need', 'to', 'see', 'the', 'doctor', '', '', '', '', '', '', '', '', ''])\n",
      "('chat2 : ', ['sure', 'about', 'what', '', '', '', '', '', '', '', '', '', '', '', ''])\n",
      "('chat1 : ', ['when', 'is', 'the', 'doctor', 'free', '', '', '', '', '', '', '', '', '', ''])\n",
      "('chat2 : ', ['well', 'depends', 'on', 'how', 'urgent', 'how', 'their', 'urgent', '', '', '', '', '', '', ''])\n",
      "('chat1 : ', ['i', 'need', 'to', 'renew', 'my', 'prescription', '', '', '', '', '', '', '', '', ''])\n",
      "('chat2 : ', ['below', 'you', 'come', 'to', 'urgent', 'clinic', '', '', '', '', '', '', '', '', ''])\n",
      "('chat1 : ', ['i', 'need', 'to', 'make', 'an', 'appointment', 'for', 'my', 'husband', '', '', '', '', '', ''])\n",
      "('chat2 : ', ['sure', 'about', 'what', '', '', '', '', '', '', '', '', '', '', '', ''])\n",
      "loss for 36000 iteration: 4.08398\n",
      "loss for 37000 iteration: 4.05056\n",
      "loss for 38000 iteration: 4.04832\n",
      "loss for 39000 iteration: 4.04607\n",
      "loss for 40000 iteration: 4.03285\n",
      "('chat1 : ', ['how', 'to', 'get', 'to', 'your', 'office', 'if', 'i', 'come', 'from', 'switzerland', '', '', '', ''])\n",
      "('chat2 : ', ['you', 'need', 'to', 'take', 'the', 'tgv', 'then', 'drive', 'train', 'train', 'train', '', '', '', ''])\n",
      "('chat1 : ', ['how', 'to', 'get', 'to', 'your', 'office', 'if', 'i', 'come', 'by', 'car', '', '', '', ''])\n",
      "('chat2 : ', ['you', 'need', 'to', 'take', 'the', 'periph', 'and', 'drive', 'for', '30mins', '', '', '', '', ''])\n",
      "('chat1 : ', ['how', 'to', 'get', 'to', 'your', 'office', 'if', 'i', 'come', 'by', 'bike', '', '', '', ''])\n",
      "('chat2 : ', ['you', 'need', 'to', 'take', 'the', 'periph', 'and', 'drive', 'for', '30mins', '', '', '', '', ''])\n",
      "('chat1 : ', ['how', 'to', 'get', 'to', 'your', 'office', 'if', 'i', 'come', 'by', 'motobike', '', '', '', ''])\n",
      "('chat2 : ', ['you', 'need', 'to', 'take', 'the', 'periph', 'and', 'drive', 'for', '30mins', '', '', '', '', ''])\n",
      "('chat1 : ', ['i', 'need', 'to', 'make', 'an', 'appointment', '', '', '', '', '', '', '', '', ''])\n",
      "('chat2 : ', ['sure', 'about', 'what', '', '', '', '', '', '', '', '', '', '', '', ''])\n",
      "('chat1 : ', ['i', 'need', 'to', 'see', 'the', 'doctor', '', '', '', '', '', '', '', '', ''])\n",
      "('chat2 : ', ['sure', 'about', 'what', '', '', '', '', '', '', '', '', '', '', '', ''])\n",
      "('chat1 : ', ['when', 'is', 'the', 'doctor', 'free', '', '', '', '', '', '', '', '', '', ''])\n",
      "('chat2 : ', ['well', 'depends', 'on', 'how', 'urgent', 'have', '', 'address', '', '', '', '', '', '', ''])\n",
      "('chat1 : ', ['i', 'need', 'to', 'renew', 'my', 'prescription', '', '', '', '', '', '', '', '', ''])\n",
      "('chat2 : ', ['have', 'you', 'come', 'to', 'me', 'clinic', '', '', '', '', '', '', '', '', ''])\n",
      "('chat1 : ', ['i', 'need', 'to', 'make', 'an', 'appointment', 'for', 'my', 'husband', '', '', '', '', '', ''])\n",
      "('chat2 : ', ['sure', 'about', 'what', '', '', '', '', '', '', '', '', '', '', '', ''])\n",
      "loss for 41000 iteration: 4.02375\n",
      "loss for 42000 iteration: 4.01962\n",
      "loss for 43000 iteration: 4.01497\n",
      "loss for 44000 iteration: 4.01488\n",
      "loss for 45000 iteration: 4.01485\n",
      "('chat1 : ', ['how', 'to', 'get', 'to', 'your', 'office', 'if', 'i', 'come', 'from', 'switzerland', '', '', '', ''])\n",
      "('chat2 : ', ['you', 'need', 'to', 'take', 'the', 'tgv', 'then', 'drive', 'paris', 'train', 'station', 'we', 'we', 'below', 'train'])\n",
      "('chat1 : ', ['how', 'to', 'get', 'to', 'your', 'office', 'if', 'i', 'come', 'by', 'car', '', '', '', ''])\n",
      "('chat2 : ', ['you', 'need', 'to', 'take', 'the', 'periph', 'and', 'drive', 'for', '30mins', '', '', '', '', ''])\n",
      "('chat1 : ', ['how', 'to', 'get', 'to', 'your', 'office', 'if', 'i', 'come', 'by', 'bike', '', '', '', ''])\n",
      "('chat2 : ', ['you', 'need', 'to', 'take', 'the', 'periph', 'and', 'drive', 'for', '30mins', '', '', '', '', ''])\n",
      "('chat1 : ', ['how', 'to', 'get', 'to', 'your', 'office', 'if', 'i', 'come', 'by', 'motobike', '', '', '', ''])\n",
      "('chat2 : ', ['you', 'need', 'to', 'take', 'the', 'periph', 'and', 'drive', 'for', '30mins', '', '', '', '', ''])\n",
      "('chat1 : ', ['i', 'need', 'to', 'make', 'an', 'appointment', '', '', '', '', '', '', '', '', ''])\n",
      "('chat2 : ', ['sure', 'about', 'what', '', '', '', '', '', '', '', '', '', '', '', ''])\n",
      "('chat1 : ', ['i', 'need', 'to', 'see', 'the', 'doctor', '', '', '', '', '', '', '', '', ''])\n",
      "('chat2 : ', ['sure', 'about', 'what', '', '', '', '', '', '', '', '', '', '', '', ''])\n",
      "('chat1 : ', ['when', 'is', 'the', 'doctor', 'free', '', '', '', '', '', '', '', '', '', ''])\n",
      "('chat2 : ', ['well', 'depends', 'on', 'how', 'urgent', 'clinic', '', '', '', '', '', '', '', '', ''])\n",
      "('chat1 : ', ['i', 'need', 'to', 'renew', 'my', 'prescription', '', '', '', '', '', '', '', '', ''])\n",
      "('chat2 : ', ['greetings', 'you', 'come', 'to', 'me', 'clinic', '', '', '', '', '', '', '', '', ''])\n",
      "('chat1 : ', ['i', 'need', 'to', 'make', 'an', 'appointment', 'for', 'my', 'husband', '', '', '', '', '', ''])\n",
      "('chat2 : ', ['sure', 'about', 'what', '', '', '', '', '', '', '', '', '', '', '', ''])\n",
      "loss for 46000 iteration: 4.01261\n",
      "loss for 47000 iteration: 4.0105\n",
      "loss for 48000 iteration: 4.0082\n",
      "loss for 49000 iteration: 4.00818\n",
      "loss for 50000 iteration: 4.00376\n",
      "('chat1 : ', ['how', 'to', 'get', 'to', 'your', 'office', 'if', 'i', 'come', 'from', 'switzerland', '', '', '', ''])\n",
      "('chat2 : ', ['you', 'need', 'to', 'take', 'the', 'tgv', 'then', 'paris', 'paris', 'train', 'station', 'we', 'are', 'are', 'then'])\n",
      "('chat1 : ', ['how', 'to', 'get', 'to', 'your', 'office', 'if', 'i', 'come', 'by', 'car', '', '', '', ''])\n",
      "('chat2 : ', ['you', 'need', 'to', 'take', 'the', 'periph', 'and', 'drive', 'for', '30mins', '', '', '', '', ''])\n",
      "('chat1 : ', ['how', 'to', 'get', 'to', 'your', 'office', 'if', 'i', 'come', 'by', 'bike', '', '', '', ''])\n",
      "('chat2 : ', ['you', 'need', 'to', 'take', 'the', 'periph', 'and', 'drive', 'for', '30mins', '', '', '', '', ''])\n",
      "('chat1 : ', ['how', 'to', 'get', 'to', 'your', 'office', 'if', 'i', 'come', 'by', 'motobike', '', '', '', ''])\n",
      "('chat2 : ', ['you', 'need', 'to', 'take', 'the', 'periph', 'and', 'drive', 'for', '30mins', '', '', '', '', ''])\n",
      "('chat1 : ', ['i', 'need', 'to', 'make', 'an', 'appointment', '', '', '', '', '', '', '', '', ''])\n",
      "('chat2 : ', ['sure', 'about', 'what', '', '', '', '', '', '', '', '', '', '', '', ''])\n",
      "('chat1 : ', ['i', 'need', 'to', 'see', 'the', 'doctor', '', '', '', '', '', '', '', '', ''])\n",
      "('chat2 : ', ['sure', 'about', 'what', '', '', '', '', '', '', '', '', '', '', '', ''])\n",
      "('chat1 : ', ['when', 'is', 'the', 'doctor', 'free', '', '', '', '', '', '', '', '', '', ''])\n",
      "('chat2 : ', ['well', 'depends', 'on', 'how', 'urgent', 'on', '', '', '', '', '', '', '', '', ''])\n",
      "('chat1 : ', ['i', 'need', 'to', 'renew', 'my', 'prescription', '', '', '', '', '', '', '', '', ''])\n",
      "('chat2 : ', ['need', 'you', 'come', 'to', 'me', 'clinic', '', '', '', '', '', '', '', '', ''])\n",
      "('chat1 : ', ['i', 'need', 'to', 'make', 'an', 'appointment', 'for', 'my', 'husband', '', '', '', '', '', ''])\n",
      "('chat2 : ', ['sure', 'about', 'what', '', '', '', '', '', '', '', '', '', '', '', ''])\n",
      "loss for 51000 iteration: 4.00149\n",
      "loss for 52000 iteration: 3.99926\n",
      "loss for 53000 iteration: 3.99924\n",
      "loss for 54000 iteration: 3.99921\n",
      "loss for 55000 iteration: 3.9904\n",
      "('chat1 : ', ['how', 'to', 'get', 'to', 'your', 'office', 'if', 'i', 'come', 'from', 'switzerland', '', '', '', ''])\n",
      "('chat2 : ', ['you', 'need', 'to', 'take', 'the', 'tgv', 'then', 'subway', 'paris', 'train', 'station', 'we', 'subway', 'subway', 'subway'])\n",
      "('chat1 : ', ['how', 'to', 'get', 'to', 'your', 'office', 'if', 'i', 'come', 'by', 'car', '', '', '', ''])\n",
      "('chat2 : ', ['you', 'need', 'to', 'take', 'the', 'periph', 'and', 'drive', 'for', '30mins', '', '', '', '', ''])\n",
      "('chat1 : ', ['how', 'to', 'get', 'to', 'your', 'office', 'if', 'i', 'come', 'by', 'bike', '', '', '', ''])\n",
      "('chat2 : ', ['you', 'need', 'to', 'take', 'the', 'periph', 'and', 'drive', 'for', '30mins', '', '', '', '', ''])\n",
      "('chat1 : ', ['how', 'to', 'get', 'to', 'your', 'office', 'if', 'i', 'come', 'by', 'motobike', '', '', '', ''])\n",
      "('chat2 : ', ['you', 'need', 'to', 'take', 'the', 'periph', 'and', 'drive', 'for', '30mins', '', '', '', '', ''])\n",
      "('chat1 : ', ['i', 'need', 'to', 'make', 'an', 'appointment', '', '', '', '', '', '', '', '', ''])\n",
      "('chat2 : ', ['sure', 'about', 'what', '', '', '', '', '', '', '', '', '', '', '', ''])\n",
      "('chat1 : ', ['i', 'need', 'to', 'see', 'the', 'doctor', '', '', '', '', '', '', '', '', ''])\n",
      "('chat2 : ', ['sure', 'about', 'what', '', '', '', '', '', '', '', '', '', '', '', ''])\n",
      "('chat1 : ', ['when', 'is', 'the', 'doctor', 'free', '', '', '', '', '', '', '', '', '', ''])\n",
      "('chat2 : ', ['well', 'depends', 'on', 'how', 'urgent', 'terminus', '', '', '', '', '', '', '', '', ''])\n",
      "('chat1 : ', ['i', 'need', 'to', 'renew', 'my', 'prescription', '', '', '', '', '', '', '', '', ''])\n",
      "('chat2 : ', ['need', 'you', 'come', 'to', 'assistant', 'clinic', '', '', '', '', '', '', '', '', ''])\n",
      "('chat1 : ', ['i', 'need', 'to', 'make', 'an', 'appointment', 'for', 'my', 'husband', '', '', '', '', '', ''])\n",
      "('chat2 : ', ['sure', 'about', 'what', '', '', '', '', '', '', '', '', '', '', '', ''])\n",
      "loss for 56000 iteration: 3.99038\n",
      "loss for 57000 iteration: 3.98817\n",
      "loss for 58000 iteration: 3.98594\n",
      "loss for 59000 iteration: 3.98593\n",
      "loss for 60000 iteration: 3.98372\n",
      "('chat1 : ', ['how', 'to', 'get', 'to', 'your', 'office', 'if', 'i', 'come', 'from', 'switzerland', '', '', '', ''])\n",
      "('chat2 : ', ['you', 'need', 'to', 'take', 'the', 'tgv', 'then', 'is', 'paris', 'train', 'station', 'away', 'someone', '5mins', 'subway'])\n",
      "('chat1 : ', ['how', 'to', 'get', 'to', 'your', 'office', 'if', 'i', 'come', 'by', 'car', '', '', '', ''])\n",
      "('chat2 : ', ['you', 'need', 'to', 'take', 'the', 'periph', 'and', 'drive', 'for', '30mins', '', '', '', '', ''])\n",
      "('chat1 : ', ['how', 'to', 'get', 'to', 'your', 'office', 'if', 'i', 'come', 'by', 'bike', '', '', '', ''])\n",
      "('chat2 : ', ['you', 'need', 'to', 'take', 'the', 'periph', 'and', 'drive', 'for', '30mins', '', '', '', '', ''])\n",
      "('chat1 : ', ['how', 'to', 'get', 'to', 'your', 'office', 'if', 'i', 'come', 'by', 'motobike', '', '', '', ''])\n",
      "('chat2 : ', ['you', 'need', 'to', 'take', 'the', 'periph', 'and', 'drive', 'for', '30mins', '', '', '', '', ''])\n",
      "('chat1 : ', ['i', 'need', 'to', 'make', 'an', 'appointment', '', '', '', '', '', '', '', '', ''])\n",
      "('chat2 : ', ['sure', 'about', 'what', '', '', '', '', '', '', '', '', '', '', '', ''])\n",
      "('chat1 : ', ['i', 'need', 'to', 'see', 'the', 'doctor', '', '', '', '', '', '', '', '', ''])\n",
      "('chat2 : ', ['sure', 'about', 'what', '', '', '', '', '', '', '', '', '', '', '', ''])\n",
      "('chat1 : ', ['when', 'is', 'the', 'doctor', 'free', '', '', '', '', '', '', '', '', '', ''])\n",
      "('chat2 : ', ['well', 'depends', 'on', 'how', 'urgent', 'you', '', '', '', '', '', '', '', '', ''])\n",
      "('chat1 : ', ['i', 'need', 'to', 'renew', 'my', 'prescription', '', '', '', '', '', '', '', '', ''])\n",
      "('chat2 : ', ['30mins', 'you', 'come', 'to', 'greetings', 'clinic', '', '', '', '', '', '', '', '', ''])\n",
      "('chat1 : ', ['i', 'need', 'to', 'make', 'an', 'appointment', 'for', 'my', 'husband', '', '', '', '', '', ''])\n",
      "('chat2 : ', ['sure', 'about', 'what', '', '', '', '', '', '', '', '', '', '', '', ''])\n",
      "---------Training over------------\n",
      "---testing the trained model with test data----\n",
      "('chat1 : ', ['hey', '', '', '', '', '', '', '', '', '', '', '', '', '', ''])\n",
      "('chat2 : ', ['hi', '', '', '', '', '', '', '', '', '', '', '', '', '', ''])\n",
      "('chat1 : ', ['what', 's', 'up', '', '', '', '', '', '', '', '', '', '', '', ''])\n",
      "('chat2 : ', ['nothing', 'much', '', '', '', '', '', '', '', '', '', '', '', '', ''])\n",
      "('chat1 : ', ['greetings', '', '', '', '', '', '', '', '', '', '', '', '', '', ''])\n",
      "('chat2 : ', ['greetings', '', '', '', '', '', '', '', '', '', '', '', '', '', ''])\n",
      "('chat1 : ', ['how', 'are', 'you', '', '', '', '', '', '', '', '', '', '', '', ''])\n",
      "('chat2 : ', ['i', 'm', 'doing', 'good', '', '', '', '', '', '', '', '', '', '', ''])\n",
      "('chat1 : ', ['how', 'are', 'you', 'doing', 'today', '', '', '', '', '', '', '', '', '', ''])\n",
      "('chat2 : ', ['i', 'm', 'doing', 'good', '', '', '', '', '', '', '', '', '', '', ''])\n",
      "('chat1 : ', ['what', 's', 'your', 'name', '', '', '', '', '', '', '', '', '', '', ''])\n",
      "('chat2 : ', ['i', 'm', 'nameless', '', '', '', '', '', '', '', '', '', '', '', ''])\n",
      "('chat1 : ', ['what', 'can', 'you', 'do', '', '', '', '', '', '', '', '', '', '', ''])\n",
      "('chat2 : ', ['anything', 'that', 'you', 'want', '', '', '', '', '', '', '', '', '', '', ''])\n",
      "('chat1 : ', ['when', 'may', 'i', 'check', 'in', '', '', '', '', '', '', '', '', '', ''])\n",
      "('chat2 : ', ['i', 'date', 'want', 'on', '', '', '', '', '', '', '', '', '', '', ''])\n",
      "('chat1 : ', ['when', 'will', 'i', 'be', 'able', 'to', 'i', 'check', 'out', '', '', '', '', '', ''])\n",
      "('chat2 : ', ['i', 'date', 'want', 'on', '', '', '', '', '', '', '', '', '', '', ''])\n",
      "('chat1 : ', ['who', 'are', 'you', '', '', '', '', '', '', '', '', '', '', '', ''])\n",
      "('chat2 : ', ['i', 'am', 'your', 'little', 'assistant', '', '', '', '', '', '', '', '', '', ''])\n",
      "('chat1 : ', ['hi', '', '', '', '', '', '', '', '', '', '', '', '', '', ''])\n",
      "('chat2 : ', ['hi', '', '', '', '', '', '', '', '', '', '', '', '', '', ''])\n",
      "('chat1 : ', ['hello', '', '', '', '', '', '', '', '', '', '', '', '', '', ''])\n",
      "('chat2 : ', ['hi', '', '', '', '', '', '', '', '', '', '', '', '', '', ''])\n",
      "('chat1 : ', ['what', 's', 'your', 'address', '', '', '', '', '', '', '', '', '', '', ''])\n",
      "('chat2 : ', ['i', 'don', 't', 'have', 'an', 'address', '', '', '', '', '', '', '', '', ''])\n",
      "('chat1 : ', ['what', 's', 'your', 'phone', 'number', '', '', '', '', '', '', '', '', '', ''])\n",
      "('chat2 : ', ['i', 'don', 't', 'have', 'an', 'number', 'either', '', '', '', '', '', '', '', ''])\n",
      "('chat1 : ', ['how', 'can', 'i', 'call', 'you', '', '', '', '', '', '', '', '', '', ''])\n",
      "('chat2 : ', ['30mins', 'can', 't', 'call', 'me', 'how', 'only', 'only', 'only', 'metro', 'me', '', '', '', ''])\n",
      "('chat1 : ', ['how', 'can', 'i', 'contact', 'you', '', '', '', '', '', '', '', '', '', ''])\n",
      "('chat2 : ', ['below', 'can', 't', 'call', 'me', 'have', 'either', 'only', 'on', 'on', 'me', '', '', '', ''])\n",
      "('chat1 : ', ['can', 'you', 'call', 'someone', 'for', 'me', '', '', '', '', '', '', '', '', ''])\n",
      "('chat2 : ', ['sure', 'what', 'is', 'their', 'phone', 'number', '', '', '', '', '', '', '', '', ''])\n",
      "('chat1 : ', ['can', 'i', 'talk', 'to', 'someone', '', '', '', '', '', '', '', '', '', ''])\n",
      "('chat2 : ', ['doing', '', 'below', 'getting', 'then', 'someone', 'to', 'date', '5mins', 'to', '', '', '', '', ''])\n",
      "('chat1 : ', ['how', 'to', 'get', 'to', 'your', 'office', '', '', '', '', '', '', '', '', ''])\n",
      "('chat2 : ', ['you', 'need', 'to', 'take', 'stop', 'at', 'subway', 'subway', 'we', 'are', '5mins', 'away', 'from', 'there', ''])\n",
      "('chat1 : ', ['how', 'to', 'get', 'to', 'your', 'office', 'if', 'i', 'come', 'from', 'bordeaux', '', '', '', ''])\n",
      "('chat2 : ', ['you', 'need', 'to', 'take', 'the', 'tgv', 'then', 'is', 'paris', 'train', 'station', 'away', 'someone', '5mins', 'subway'])\n",
      "('chat1 : ', ['how', 'to', 'get', 'to', 'your', 'office', 'if', 'i', 'come', 'from', 'lyon', '', '', '', ''])\n",
      "('chat2 : ', ['you', 'need', 'to', 'take', 'the', 'tgv', 'then', 'is', 'paris', 'train', 'station', 'away', 'someone', '5mins', 'subway'])\n",
      "('chat1 : ', ['how', 'to', 'come', 'to', 'your', 'locals', 'if', 'i', 'come', 'from', 'brazil', '', '', '', ''])\n",
      "('chat2 : ', ['you', 'need', 'to', 'take', 'the', 'periph', 'and', 'drive', 'for', '30mins', '', '', '', '', ''])\n",
      "('chat1 : ', ['how', 'to', 'get', 'there', 'from', 'switzerland', '', '', '', '', '', '', '', '', ''])\n",
      "('chat2 : ', ['you', 'need', 'to', 'take', 'stop', 'at', 'subway', 'paris', 'we', 'are', '5mins', 'away', 'from', 'there', ''])\n",
      "('chat1 : ', ['how', 'to', 'go', 'to', 'your', 'office', 'by', 'car', '', '', '', '', '', '', ''])\n",
      "('chat2 : ', ['you', 'need', 'to', 'take', 'the', 'periph', 'and', 'drive', 'for', '30mins', '', '', '', '', ''])\n",
      "('chat1 : ', ['how', 'to', 'come', 'to', 'your', 'office', 'riding', 'bike', '', '', '', '', '', '', ''])\n",
      "('chat2 : ', ['you', 'need', 'to', 'take', 'stop', 'at', 'train', 'someone', 'we', 'are', '5mins', 'away', 'from', 'there', ''])\n",
      "('chat1 : ', ['how', 'to', 'get', 'to', 'your', 'office', 'if', 'i', 'come', 'by', 'motobike', '', '', '', ''])\n",
      "('chat2 : ', ['you', 'need', 'to', 'take', 'the', 'periph', 'and', 'drive', 'for', '30mins', '', '', '', '', ''])\n",
      "('chat1 : ', ['i', 'need', 'to', 'make', 'an', 'appointment', '', '', '', '', '', '', '', '', ''])\n",
      "('chat2 : ', ['sure', 'about', 'what', '', '', '', '', '', '', '', '', '', '', '', ''])\n",
      "('chat1 : ', ['i', 'need', 'to', 'see', 'the', 'doctor', '', '', '', '', '', '', '', '', ''])\n",
      "('chat2 : ', ['sure', 'about', 'what', '', '', '', '', '', '', '', '', '', '', '', ''])\n",
      "('chat1 : ', ['when', 'can', 'the', 'doctor', 'be', 'free', '', '', '', '', '', '', '', '', ''])\n",
      "('chat2 : ', ['well', 'depends', 'on', 'how', 'urgent', 'you', '', '', '', '', '', '', '', '', ''])\n",
      "('chat1 : ', ['i', 'need', 'a', 'new', 'prescription', '', '', '', '', '', '', '', '', '', ''])\n",
      "('chat2 : ', ['well', 'm', 'come', 'to', 'urgent', 'clinic', '', '', '', '', '', '', '', '', ''])\n",
      "('chat1 : ', ['i', 'need', 'to', 'make', 'an', 'appointment', 'for', 'my', 'husband', '', '', '', '', '', ''])\n",
      "('chat2 : ', ['sure', 'about', 'what', '', '', '', '', '', '', '', '', '', '', '', ''])\n",
      "('chat1 : ', ['my', 'husband', 'need', 'to', 'make', 'an', 'appointment', '', '', '', '', '', '', '', ''])\n",
      "('chat2 : ', ['you', 'address', 'to', 'getting', 'drive', 'for', '30mins', '', '', '', '', '', '', '', ''])\n",
      "('chat1 : ', ['my', 'child', 'needs', 'a', 'check', 'up', '', '', '', '', '', '', '', '', ''])\n",
      "('chat2 : ', ['sure', 'much', 'come', 'either', '', 'address', 'you', 'greetings', 'the', 'you', 'greetings', 'the', 'you', 'greetings', 'the'])\n",
      "accuracy of test samples 0.79596\n"
     ]
    },
    {
     "name": "stderr",
     "output_type": "stream",
     "text": [
      "/usr/lib/python2.7/dist-packages/simplejson/encoder.py:269: DeprecationWarning: Interpreting naive datetime as local 2017-04-20 11:11:47.554826. Please add timezone info to timestamps.\n",
      "  chunks = self.iterencode(o, _one_shot=True)\n"
     ]
    }
   ],
   "source": [
    "#start of execution of training\n",
    "loss,it=train_nn()"
   ]
  },
  {
   "cell_type": "code",
   "execution_count": 31,
   "metadata": {
    "collapsed": false,
    "deletable": true,
    "editable": true
   },
   "outputs": [
    {
     "name": "stderr",
     "output_type": "stream",
     "text": [
      "/usr/lib/python2.7/dist-packages/simplejson/encoder.py:269: DeprecationWarning: Interpreting naive datetime as local 2017-04-20 13:43:34.185903. Please add timezone info to timestamps.\n",
      "  chunks = self.iterencode(o, _one_shot=True)\n"
     ]
    }
   ],
   "source": [
    "plt.plot(it,loss)\n",
    "plt.show()"
   ]
  },
  {
   "cell_type": "code",
   "execution_count": null,
   "metadata": {
    "collapsed": true,
    "deletable": true,
    "editable": true
   },
   "outputs": [],
   "source": []
  }
 ],
 "metadata": {
  "kernelspec": {
   "display_name": "Python 2",
   "language": "python",
   "name": "python2"
  },
  "language_info": {
   "codemirror_mode": {
    "name": "ipython",
    "version": 2
   },
   "file_extension": ".py",
   "mimetype": "text/x-python",
   "name": "python",
   "nbconvert_exporter": "python",
   "pygments_lexer": "ipython2",
   "version": "2.7.9"
  }
 },
 "nbformat": 4,
 "nbformat_minor": 2
}
